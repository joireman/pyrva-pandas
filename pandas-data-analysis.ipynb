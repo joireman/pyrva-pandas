{
 "cells": [
  {
   "cell_type": "markdown",
   "metadata": {},
   "source": [
    "# Pandas for Data Analytics"
   ]
  },
  {
   "cell_type": "markdown",
   "metadata": {},
   "source": [
    "- [Pandas Documentation](http://pandas.pydata.org/pandas-docs/stable/) : latest version is 2.2.2 as of April 18, 2024\n",
    "- [Python for Data Analysis](https://www.amazon.com/Python-Data-Analysis-Wrangling-Jupyter-dp-109810403X/dp/109810403X/ref=dp_ob_title_bk) - original book about pandas, now in 3rd edition (Wes McKinney - creator)\n",
    "- [Data analysis in Python with pandas](https://www.youtube.com/watch?v=w26x-z-BdWQ) - YouTube training video from PyCon (Wes McKinney)\n",
    "- [Data Analysis with Python and Pandas](https://www.udemy.com/course/data-analysis-with-pandas/?couponCode=LETSLEARNNOWPP) - Udemy training course"
   ]
  },
  {
   "cell_type": "code",
   "execution_count": 1,
   "metadata": {
    "collapsed": false,
    "jupyter": {
     "outputs_hidden": false
    }
   },
   "outputs": [
    {
     "name": "stdout",
     "output_type": "stream",
     "text": [
      "Pandas version: 2.2.2\n",
      "numpy version 2.0.0\n"
     ]
    }
   ],
   "source": [
    "import numpy as np\n",
    "import pandas as pd\n",
    "import matplotlib.pyplot as plt\n",
    "from pathlib import Path\n",
    "\n",
    "# plot all graphs inline\n",
    "%matplotlib inline    \n",
    "\n",
    "print(f\"Pandas version: {pd.__version__}\")\n",
    "print(f\"numpy version {np.__version__}\")"
   ]
  },
  {
   "cell_type": "markdown",
   "metadata": {},
   "source": [
    "## Data Structures"
   ]
  },
  {
   "cell_type": "markdown",
   "metadata": {},
   "source": [
    "## Series"
   ]
  },
  {
   "cell_type": "markdown",
   "metadata": {},
   "source": [
    "A `Series` is a 1D data structure that can contain any data of the same type.  A minimal `Series` constructor looks like:\n",
    "```\n",
    "s = pd.Series(data)\n",
    "```\n",
    "\n"
   ]
  },
  {
   "cell_type": "markdown",
   "metadata": {},
   "source": [
    "but we are going to use the slightly more useful constructor: \n",
    "```\n",
    "s = pd.Series(data, index, name)\n",
    "```\n",
    "here `data` can be lots of things, a list, an `np.ndarray`, a Python `dict` or a scalar value.  The `index` is not required, but if it is provided it must be the same length as the provided data.  If an `index` is not provided a zero based integer index is created based on the size of the data.  If input is a Python `dict` the key values are used as the index labels.\n",
    "\n",
    "The `name` parameter is not needed but can be used to label the entire `Series`, if the named `Series` is then used to build a `DataFrame` (see below) the name will be used as the column label."
   ]
  },
  {
   "cell_type": "code",
   "execution_count": 14,
   "metadata": {
    "collapsed": false,
    "jupyter": {
     "outputs_hidden": false
    }
   },
   "outputs": [
    {
     "data": {
      "text/plain": [
       "a    1\n",
       "b    2\n",
       "c    3\n",
       "d    4\n",
       "e    5\n",
       "Name: A, dtype: int32"
      ]
     },
     "execution_count": 14,
     "metadata": {},
     "output_type": "execute_result"
    }
   ],
   "source": [
    "N = 5\n",
    "aser = pd.Series([1,2,3,4,5], index=list('abcde'), name='A', dtype=np.int32)\n",
    "aser"
   ]
  },
  {
   "cell_type": "code",
   "execution_count": 15,
   "metadata": {
    "collapsed": false,
    "jupyter": {
     "outputs_hidden": false
    }
   },
   "outputs": [
    {
     "data": {
      "text/plain": [
       "Index(['a', 'b', 'c', 'd', 'e'], dtype='object')"
      ]
     },
     "execution_count": 15,
     "metadata": {},
     "output_type": "execute_result"
    }
   ],
   "source": [
    "# Note: the index does not need to be unique\n",
    "aser.index"
   ]
  },
  {
   "cell_type": "markdown",
   "metadata": {},
   "source": [
    "A series acts much like a standard numpy array with a few additional features"
   ]
  },
  {
   "cell_type": "code",
   "execution_count": 16,
   "metadata": {
    "collapsed": false,
    "jupyter": {
     "outputs_hidden": false
    }
   },
   "outputs": [
    {
     "name": "stdout",
     "output_type": "stream",
     "text": [
      "The length of the Series is: 5\n",
      "The size attribute also gives the same result: 5\n",
      "You can total up the values in the series: 15\n",
      "  Or maybe you are in a factorial state of mind! 120\n"
     ]
    }
   ],
   "source": [
    "print(f'The length of the Series is: {len(aser)}')\n",
    "print(f'The size attribute also gives the same result: {aser.size}')\n",
    "print(f\"You can total up the values in the series: {aser.sum()}\")\n",
    "print(f\"  Or maybe you are in a factorial state of mind! {aser.product()}\")"
   ]
  },
  {
   "cell_type": "code",
   "execution_count": 17,
   "metadata": {},
   "outputs": [
    {
     "data": {
      "text/plain": [
       "a         NaN\n",
       "b    1.000000\n",
       "c    0.500000\n",
       "d    0.333333\n",
       "e    0.250000\n",
       "Name: A, dtype: float64"
      ]
     },
     "execution_count": 17,
     "metadata": {},
     "output_type": "execute_result"
    }
   ],
   "source": [
    "pcser = aser.pct_change()\n",
    "pcser"
   ]
  },
  {
   "cell_type": "code",
   "execution_count": 18,
   "metadata": {
    "collapsed": false,
    "jupyter": {
     "outputs_hidden": false
    }
   },
   "outputs": [
    {
     "data": {
      "text/plain": [
       "b    2\n",
       "c    3\n",
       "d    4\n",
       "Name: A, dtype: int32"
      ]
     },
     "execution_count": 18,
     "metadata": {},
     "output_type": "execute_result"
    }
   ],
   "source": [
    "# Series acts like an array or list for selection\n",
    "aser[1:4]"
   ]
  },
  {
   "cell_type": "code",
   "execution_count": 19,
   "metadata": {
    "collapsed": false,
    "jupyter": {
     "outputs_hidden": false
    }
   },
   "outputs": [
    {
     "data": {
      "text/plain": [
       "b    2\n",
       "c    3\n",
       "d    4\n",
       "Name: A, dtype: int32"
      ]
     },
     "execution_count": 19,
     "metadata": {},
     "output_type": "execute_result"
    }
   ],
   "source": [
    "# Can also select using labels, kind of like a dict\n",
    "aser['b':'d']"
   ]
  },
  {
   "cell_type": "code",
   "execution_count": 20,
   "metadata": {
    "collapsed": false,
    "jupyter": {
     "outputs_hidden": false
    }
   },
   "outputs": [
    {
     "data": {
      "text/plain": [
       "a     5\n",
       "b     7\n",
       "c     9\n",
       "d    11\n",
       "e    13\n",
       "Name: A, dtype: int32"
      ]
     },
     "execution_count": 20,
     "metadata": {},
     "output_type": "execute_result"
    }
   ],
   "source": [
    "# Can operate on a series just like a numpy array\n",
    "aser*2 + 3"
   ]
  },
  {
   "cell_type": "markdown",
   "metadata": {},
   "source": [
    "### References for efficiency\n",
    "\n",
    "**Pandas doesn't implicitly copy any data behind your back**, the library really forces you to declare your intentions.  Series can be assigned to other variables but these are only references, using them touches the original series, similar to other Python references.  If you want a copy you need to use the `copy()` method, this has a cost that `pandas` doesn't want to pay without you agreeing.   It is similar for functions which could modify your data"
   ]
  },
  {
   "cell_type": "code",
   "execution_count": 12,
   "metadata": {},
   "outputs": [
    {
     "data": {
      "text/plain": [
       "d    5\n",
       "d    4\n",
       "c    3\n",
       "b    2\n",
       "a    1\n",
       "Name: A, dtype: int32"
      ]
     },
     "execution_count": 12,
     "metadata": {},
     "output_type": "execute_result"
    }
   ],
   "source": [
    "# Sort in descending order\n",
    "asorted = aser.sort_values(ascending=False)\n",
    "asorted"
   ]
  },
  {
   "cell_type": "code",
   "execution_count": 11,
   "metadata": {},
   "outputs": [
    {
     "data": {
      "text/plain": [
       "a    1\n",
       "b    2\n",
       "c    3\n",
       "d    4\n",
       "d    5\n",
       "Name: A, dtype: int32"
      ]
     },
     "execution_count": 11,
     "metadata": {},
     "output_type": "execute_result"
    }
   ],
   "source": [
    "# original series unaffected\n",
    "aser"
   ]
  },
  {
   "cell_type": "code",
   "execution_count": 21,
   "metadata": {},
   "outputs": [
    {
     "data": {
      "text/plain": [
       "e    5\n",
       "d    4\n",
       "c    3\n",
       "b    2\n",
       "a    1\n",
       "Name: A, dtype: int32"
      ]
     },
     "execution_count": 21,
     "metadata": {},
     "output_type": "execute_result"
    }
   ],
   "source": [
    "# Reassign output to new variable or sort in place\n",
    "aser.sort_values(ascending=False, inplace=True)\n",
    "aser"
   ]
  },
  {
   "cell_type": "markdown",
   "metadata": {},
   "source": [
    "### Data Alignment"
   ]
  },
  {
   "cell_type": "code",
   "execution_count": 22,
   "metadata": {
    "collapsed": false,
    "jupyter": {
     "outputs_hidden": false
    }
   },
   "outputs": [
    {
     "data": {
      "text/plain": [
       "b    -46\n",
       "c   -191\n",
       "d     24\n",
       "e    -46\n",
       "f    -31\n",
       "Name: B, dtype: int16"
      ]
     },
     "execution_count": 22,
     "metadata": {},
     "output_type": "execute_result"
    }
   ],
   "source": [
    "# Create another Series with a slightly different index, notice how we can set the type of the data\n",
    "data = [np.random.randint(-200, 200) for i in range(5)]\n",
    "bser = pd.Series(data, index=list('bcdef'), dtype=np.dtype('int16'), name='B')\n",
    "bser"
   ]
  },
  {
   "cell_type": "markdown",
   "metadata": {},
   "source": [
    "Now add the two series together:"
   ]
  },
  {
   "cell_type": "code",
   "execution_count": 23,
   "metadata": {
    "collapsed": false,
    "jupyter": {
     "outputs_hidden": false
    }
   },
   "outputs": [
    {
     "data": {
      "text/plain": [
       "a      NaN\n",
       "b    -44.0\n",
       "c   -188.0\n",
       "d     28.0\n",
       "e    -41.0\n",
       "f      NaN\n",
       "dtype: float64"
      ]
     },
     "execution_count": 23,
     "metadata": {},
     "output_type": "execute_result"
    }
   ],
   "source": [
    "aser + bser"
   ]
  },
  {
   "cell_type": "markdown",
   "metadata": {},
   "source": [
    "Data is **intrinsically** aligned on the index.  `aser` does not have a value at label `f` and `bser` has no value for label `a` thus in the sum these both get `NaN`"
   ]
  },
  {
   "cell_type": "markdown",
   "metadata": {},
   "source": [
    "## DataFrame"
   ]
  },
  {
   "cell_type": "markdown",
   "metadata": {},
   "source": [
    "A `DataFrame` is a 2D data structure contains one or more 1D data arrays or Series, each with its own data type.  A minimal `DataFrame` constructor looks like:\n",
    "```\n",
    "df = pd.DataFrame(data, columns, index)\n",
    "```\n",
    "where `data` can be\n",
    "\n",
    "- a `dict` of 1D `np.ndarray`s, `list`, `dict` or `Series`: the `dict` keys are used as the column names\n",
    "- a 2D `np.ndarray`\n",
    "- a structured or record `np.ndarray`\n",
    "- a `pd.Series`\n",
    "- another `DataFrame`\n",
    "\n",
    "The `index` is not required, but if provided it must be the same length as the provided data.  If an `index` is not provided a zero based integer index is created based on the size of the data.  The column names are taken from the `columns` input list (if provided) or the key values if a `dict` is used as the data."
   ]
  },
  {
   "cell_type": "code",
   "execution_count": 24,
   "metadata": {
    "collapsed": false,
    "jupyter": {
     "outputs_hidden": false
    }
   },
   "outputs": [
    {
     "data": {
      "text/html": [
       "<div>\n",
       "<style scoped>\n",
       "    .dataframe tbody tr th:only-of-type {\n",
       "        vertical-align: middle;\n",
       "    }\n",
       "\n",
       "    .dataframe tbody tr th {\n",
       "        vertical-align: top;\n",
       "    }\n",
       "\n",
       "    .dataframe thead th {\n",
       "        text-align: right;\n",
       "    }\n",
       "</style>\n",
       "<table border=\"1\" class=\"dataframe\">\n",
       "  <thead>\n",
       "    <tr style=\"text-align: right;\">\n",
       "      <th></th>\n",
       "      <th>A</th>\n",
       "      <th>B</th>\n",
       "      <th>C</th>\n",
       "    </tr>\n",
       "  </thead>\n",
       "  <tbody>\n",
       "    <tr>\n",
       "      <th>a</th>\n",
       "      <td>1.0</td>\n",
       "      <td>NaN</td>\n",
       "      <td>3</td>\n",
       "    </tr>\n",
       "    <tr>\n",
       "      <th>b</th>\n",
       "      <td>2.0</td>\n",
       "      <td>-46.0</td>\n",
       "      <td>3</td>\n",
       "    </tr>\n",
       "    <tr>\n",
       "      <th>c</th>\n",
       "      <td>3.0</td>\n",
       "      <td>-191.0</td>\n",
       "      <td>3</td>\n",
       "    </tr>\n",
       "    <tr>\n",
       "      <th>d</th>\n",
       "      <td>4.0</td>\n",
       "      <td>24.0</td>\n",
       "      <td>3</td>\n",
       "    </tr>\n",
       "    <tr>\n",
       "      <th>e</th>\n",
       "      <td>5.0</td>\n",
       "      <td>-46.0</td>\n",
       "      <td>3</td>\n",
       "    </tr>\n",
       "    <tr>\n",
       "      <th>f</th>\n",
       "      <td>NaN</td>\n",
       "      <td>-31.0</td>\n",
       "      <td>3</td>\n",
       "    </tr>\n",
       "  </tbody>\n",
       "</table>\n",
       "</div>"
      ],
      "text/plain": [
       "     A      B  C\n",
       "a  1.0    NaN  3\n",
       "b  2.0  -46.0  3\n",
       "c  3.0 -191.0  3\n",
       "d  4.0   24.0  3\n",
       "e  5.0  -46.0  3\n",
       "f  NaN  -31.0  3"
      ]
     },
     "execution_count": 24,
     "metadata": {},
     "output_type": "execute_result"
    }
   ],
   "source": [
    "# Create from a dict of mixed data\n",
    "df = pd.DataFrame({'A': aser, 'B': bser, 'C': [3]*6})\n",
    "df"
   ]
  },
  {
   "cell_type": "markdown",
   "metadata": {},
   "source": [
    "### Selection"
   ]
  },
  {
   "cell_type": "code",
   "execution_count": 25,
   "metadata": {
    "collapsed": false,
    "jupyter": {
     "outputs_hidden": false
    }
   },
   "outputs": [
    {
     "data": {
      "text/plain": [
       "a      NaN\n",
       "b    -46.0\n",
       "c   -191.0\n",
       "d     24.0\n",
       "e    -46.0\n",
       "f    -31.0\n",
       "Name: B, dtype: float64"
      ]
     },
     "execution_count": 25,
     "metadata": {},
     "output_type": "execute_result"
    }
   ],
   "source": [
    "# Select a single column, result is a Series\n",
    "df['B']"
   ]
  },
  {
   "cell_type": "code",
   "execution_count": 29,
   "metadata": {
    "collapsed": false,
    "jupyter": {
     "outputs_hidden": false
    }
   },
   "outputs": [
    {
     "data": {
      "text/html": [
       "<div>\n",
       "<style scoped>\n",
       "    .dataframe tbody tr th:only-of-type {\n",
       "        vertical-align: middle;\n",
       "    }\n",
       "\n",
       "    .dataframe tbody tr th {\n",
       "        vertical-align: top;\n",
       "    }\n",
       "\n",
       "    .dataframe thead th {\n",
       "        text-align: right;\n",
       "    }\n",
       "</style>\n",
       "<table border=\"1\" class=\"dataframe\">\n",
       "  <thead>\n",
       "    <tr style=\"text-align: right;\">\n",
       "      <th></th>\n",
       "      <th>C</th>\n",
       "      <th>B</th>\n",
       "    </tr>\n",
       "  </thead>\n",
       "  <tbody>\n",
       "    <tr>\n",
       "      <th>a</th>\n",
       "      <td>3</td>\n",
       "      <td>NaN</td>\n",
       "    </tr>\n",
       "    <tr>\n",
       "      <th>b</th>\n",
       "      <td>3</td>\n",
       "      <td>-46.0</td>\n",
       "    </tr>\n",
       "    <tr>\n",
       "      <th>c</th>\n",
       "      <td>3</td>\n",
       "      <td>-191.0</td>\n",
       "    </tr>\n",
       "    <tr>\n",
       "      <th>d</th>\n",
       "      <td>3</td>\n",
       "      <td>24.0</td>\n",
       "    </tr>\n",
       "    <tr>\n",
       "      <th>e</th>\n",
       "      <td>3</td>\n",
       "      <td>-46.0</td>\n",
       "    </tr>\n",
       "    <tr>\n",
       "      <th>f</th>\n",
       "      <td>3</td>\n",
       "      <td>-31.0</td>\n",
       "    </tr>\n",
       "  </tbody>\n",
       "</table>\n",
       "</div>"
      ],
      "text/plain": [
       "   C      B\n",
       "a  3    NaN\n",
       "b  3  -46.0\n",
       "c  3 -191.0\n",
       "d  3   24.0\n",
       "e  3  -46.0\n",
       "f  3  -31.0"
      ]
     },
     "execution_count": 29,
     "metadata": {},
     "output_type": "execute_result"
    }
   ],
   "source": [
    "# Select multiple columns, result is a DataFrame, NOTE: use list\n",
    "df[['C', 'B']]"
   ]
  },
  {
   "cell_type": "code",
   "execution_count": 34,
   "metadata": {
    "collapsed": false,
    "jupyter": {
     "outputs_hidden": false
    }
   },
   "outputs": [
    {
     "data": {
      "text/plain": [
       "a    1.0\n",
       "b    2.0\n",
       "c    3.0\n",
       "Name: A, dtype: float64"
      ]
     },
     "execution_count": 34,
     "metadata": {},
     "output_type": "execute_result"
    }
   ],
   "source": [
    "# Select a row by label, result is a Series\n",
    "df.loc['a':'c', 'A']"
   ]
  },
  {
   "cell_type": "code",
   "execution_count": 32,
   "metadata": {
    "collapsed": false,
    "jupyter": {
     "outputs_hidden": false
    }
   },
   "outputs": [
    {
     "data": {
      "text/html": [
       "<div>\n",
       "<style scoped>\n",
       "    .dataframe tbody tr th:only-of-type {\n",
       "        vertical-align: middle;\n",
       "    }\n",
       "\n",
       "    .dataframe tbody tr th {\n",
       "        vertical-align: top;\n",
       "    }\n",
       "\n",
       "    .dataframe thead th {\n",
       "        text-align: right;\n",
       "    }\n",
       "</style>\n",
       "<table border=\"1\" class=\"dataframe\">\n",
       "  <thead>\n",
       "    <tr style=\"text-align: right;\">\n",
       "      <th></th>\n",
       "      <th>A</th>\n",
       "      <th>B</th>\n",
       "      <th>C</th>\n",
       "    </tr>\n",
       "  </thead>\n",
       "  <tbody>\n",
       "    <tr>\n",
       "      <th>d</th>\n",
       "      <td>4.0</td>\n",
       "      <td>24.0</td>\n",
       "      <td>3</td>\n",
       "    </tr>\n",
       "    <tr>\n",
       "      <th>e</th>\n",
       "      <td>5.0</td>\n",
       "      <td>-46.0</td>\n",
       "      <td>3</td>\n",
       "    </tr>\n",
       "    <tr>\n",
       "      <th>f</th>\n",
       "      <td>NaN</td>\n",
       "      <td>-31.0</td>\n",
       "      <td>3</td>\n",
       "    </tr>\n",
       "  </tbody>\n",
       "</table>\n",
       "</div>"
      ],
      "text/plain": [
       "     A     B  C\n",
       "d  4.0  24.0  3\n",
       "e  5.0 -46.0  3\n",
       "f  NaN -31.0  3"
      ]
     },
     "execution_count": 32,
     "metadata": {},
     "output_type": "execute_result"
    }
   ],
   "source": [
    "# Select a subset of rows, result is a DataFrame\n",
    "df.iloc[3:6]"
   ]
  },
  {
   "cell_type": "code",
   "execution_count": 36,
   "metadata": {
    "collapsed": false,
    "jupyter": {
     "outputs_hidden": false
    }
   },
   "outputs": [
    {
     "data": {
      "text/plain": [
       "a     True\n",
       "b    False\n",
       "c    False\n",
       "d    False\n",
       "e    False\n",
       "f    False\n",
       "Name: A, dtype: bool"
      ]
     },
     "execution_count": 36,
     "metadata": {},
     "output_type": "execute_result"
    }
   ],
   "source": [
    "# Select based on a boolean condition\n",
    "df['A'] < 2.0"
   ]
  },
  {
   "cell_type": "markdown",
   "metadata": {},
   "source": [
    "### Assignment/Deletion "
   ]
  },
  {
   "cell_type": "code",
   "execution_count": 37,
   "metadata": {
    "collapsed": false,
    "jupyter": {
     "outputs_hidden": false
    }
   },
   "outputs": [
    {
     "data": {
      "text/html": [
       "<div>\n",
       "<style scoped>\n",
       "    .dataframe tbody tr th:only-of-type {\n",
       "        vertical-align: middle;\n",
       "    }\n",
       "\n",
       "    .dataframe tbody tr th {\n",
       "        vertical-align: top;\n",
       "    }\n",
       "\n",
       "    .dataframe thead th {\n",
       "        text-align: right;\n",
       "    }\n",
       "</style>\n",
       "<table border=\"1\" class=\"dataframe\">\n",
       "  <thead>\n",
       "    <tr style=\"text-align: right;\">\n",
       "      <th></th>\n",
       "      <th>A</th>\n",
       "      <th>B</th>\n",
       "      <th>C</th>\n",
       "    </tr>\n",
       "  </thead>\n",
       "  <tbody>\n",
       "    <tr>\n",
       "      <th>a</th>\n",
       "      <td>1.0</td>\n",
       "      <td>NaN</td>\n",
       "      <td>5</td>\n",
       "    </tr>\n",
       "    <tr>\n",
       "      <th>b</th>\n",
       "      <td>2.0</td>\n",
       "      <td>-46.0</td>\n",
       "      <td>5</td>\n",
       "    </tr>\n",
       "    <tr>\n",
       "      <th>c</th>\n",
       "      <td>3.0</td>\n",
       "      <td>-191.0</td>\n",
       "      <td>5</td>\n",
       "    </tr>\n",
       "    <tr>\n",
       "      <th>d</th>\n",
       "      <td>4.0</td>\n",
       "      <td>24.0</td>\n",
       "      <td>5</td>\n",
       "    </tr>\n",
       "    <tr>\n",
       "      <th>e</th>\n",
       "      <td>5.0</td>\n",
       "      <td>-46.0</td>\n",
       "      <td>5</td>\n",
       "    </tr>\n",
       "    <tr>\n",
       "      <th>f</th>\n",
       "      <td>NaN</td>\n",
       "      <td>-31.0</td>\n",
       "      <td>5</td>\n",
       "    </tr>\n",
       "  </tbody>\n",
       "</table>\n",
       "</div>"
      ],
      "text/plain": [
       "     A      B  C\n",
       "a  1.0    NaN  5\n",
       "b  2.0  -46.0  5\n",
       "c  3.0 -191.0  5\n",
       "d  4.0   24.0  5\n",
       "e  5.0  -46.0  5\n",
       "f  NaN  -31.0  5"
      ]
     },
     "execution_count": 37,
     "metadata": {},
     "output_type": "execute_result"
    }
   ],
   "source": [
    "# Assign to an known column\n",
    "df['C'] = 5\n",
    "df"
   ]
  },
  {
   "cell_type": "code",
   "execution_count": 38,
   "metadata": {
    "collapsed": false,
    "jupyter": {
     "outputs_hidden": false
    }
   },
   "outputs": [
    {
     "data": {
      "text/html": [
       "<div>\n",
       "<style scoped>\n",
       "    .dataframe tbody tr th:only-of-type {\n",
       "        vertical-align: middle;\n",
       "    }\n",
       "\n",
       "    .dataframe tbody tr th {\n",
       "        vertical-align: top;\n",
       "    }\n",
       "\n",
       "    .dataframe thead th {\n",
       "        text-align: right;\n",
       "    }\n",
       "</style>\n",
       "<table border=\"1\" class=\"dataframe\">\n",
       "  <thead>\n",
       "    <tr style=\"text-align: right;\">\n",
       "      <th></th>\n",
       "      <th>A</th>\n",
       "      <th>B</th>\n",
       "      <th>C</th>\n",
       "      <th>D</th>\n",
       "    </tr>\n",
       "  </thead>\n",
       "  <tbody>\n",
       "    <tr>\n",
       "      <th>a</th>\n",
       "      <td>1.0</td>\n",
       "      <td>NaN</td>\n",
       "      <td>5</td>\n",
       "      <td>100.0</td>\n",
       "    </tr>\n",
       "    <tr>\n",
       "      <th>b</th>\n",
       "      <td>2.0</td>\n",
       "      <td>-46.0</td>\n",
       "      <td>5</td>\n",
       "      <td>200.0</td>\n",
       "    </tr>\n",
       "    <tr>\n",
       "      <th>c</th>\n",
       "      <td>3.0</td>\n",
       "      <td>-191.0</td>\n",
       "      <td>5</td>\n",
       "      <td>300.0</td>\n",
       "    </tr>\n",
       "    <tr>\n",
       "      <th>d</th>\n",
       "      <td>4.0</td>\n",
       "      <td>24.0</td>\n",
       "      <td>5</td>\n",
       "      <td>400.0</td>\n",
       "    </tr>\n",
       "    <tr>\n",
       "      <th>e</th>\n",
       "      <td>5.0</td>\n",
       "      <td>-46.0</td>\n",
       "      <td>5</td>\n",
       "      <td>500.0</td>\n",
       "    </tr>\n",
       "    <tr>\n",
       "      <th>f</th>\n",
       "      <td>NaN</td>\n",
       "      <td>-31.0</td>\n",
       "      <td>5</td>\n",
       "      <td>NaN</td>\n",
       "    </tr>\n",
       "  </tbody>\n",
       "</table>\n",
       "</div>"
      ],
      "text/plain": [
       "     A      B  C      D\n",
       "a  1.0    NaN  5  100.0\n",
       "b  2.0  -46.0  5  200.0\n",
       "c  3.0 -191.0  5  300.0\n",
       "d  4.0   24.0  5  400.0\n",
       "e  5.0  -46.0  5  500.0\n",
       "f  NaN  -31.0  5    NaN"
      ]
     },
     "execution_count": 38,
     "metadata": {},
     "output_type": "execute_result"
    }
   ],
   "source": [
    "# Assign to an unknown column creates a new column (at end by default)\n",
    "df['D'] = df['A']*100\n",
    "df"
   ]
  },
  {
   "cell_type": "code",
   "execution_count": 39,
   "metadata": {
    "collapsed": false,
    "jupyter": {
     "outputs_hidden": false
    }
   },
   "outputs": [
    {
     "data": {
      "text/html": [
       "<div>\n",
       "<style scoped>\n",
       "    .dataframe tbody tr th:only-of-type {\n",
       "        vertical-align: middle;\n",
       "    }\n",
       "\n",
       "    .dataframe tbody tr th {\n",
       "        vertical-align: top;\n",
       "    }\n",
       "\n",
       "    .dataframe thead th {\n",
       "        text-align: right;\n",
       "    }\n",
       "</style>\n",
       "<table border=\"1\" class=\"dataframe\">\n",
       "  <thead>\n",
       "    <tr style=\"text-align: right;\">\n",
       "      <th></th>\n",
       "      <th>A</th>\n",
       "      <th>B</th>\n",
       "      <th>C</th>\n",
       "    </tr>\n",
       "  </thead>\n",
       "  <tbody>\n",
       "    <tr>\n",
       "      <th>a</th>\n",
       "      <td>1.0</td>\n",
       "      <td>NaN</td>\n",
       "      <td>5</td>\n",
       "    </tr>\n",
       "    <tr>\n",
       "      <th>b</th>\n",
       "      <td>2.0</td>\n",
       "      <td>-46.0</td>\n",
       "      <td>5</td>\n",
       "    </tr>\n",
       "    <tr>\n",
       "      <th>c</th>\n",
       "      <td>3.0</td>\n",
       "      <td>-191.0</td>\n",
       "      <td>5</td>\n",
       "    </tr>\n",
       "    <tr>\n",
       "      <th>d</th>\n",
       "      <td>4.0</td>\n",
       "      <td>24.0</td>\n",
       "      <td>5</td>\n",
       "    </tr>\n",
       "    <tr>\n",
       "      <th>e</th>\n",
       "      <td>5.0</td>\n",
       "      <td>-46.0</td>\n",
       "      <td>5</td>\n",
       "    </tr>\n",
       "    <tr>\n",
       "      <th>f</th>\n",
       "      <td>NaN</td>\n",
       "      <td>-31.0</td>\n",
       "      <td>5</td>\n",
       "    </tr>\n",
       "  </tbody>\n",
       "</table>\n",
       "</div>"
      ],
      "text/plain": [
       "     A      B  C\n",
       "a  1.0    NaN  5\n",
       "b  2.0  -46.0  5\n",
       "c  3.0 -191.0  5\n",
       "d  4.0   24.0  5\n",
       "e  5.0  -46.0  5\n",
       "f  NaN  -31.0  5"
      ]
     },
     "execution_count": 39,
     "metadata": {},
     "output_type": "execute_result"
    }
   ],
   "source": [
    "# Delete a column\n",
    "del df['D']\n",
    "df"
   ]
  },
  {
   "cell_type": "code",
   "execution_count": 40,
   "metadata": {},
   "outputs": [
    {
     "name": "stdout",
     "output_type": "stream",
     "text": [
      "<class 'pandas.core.frame.DataFrame'>\n",
      "Index: 6 entries, a to f\n",
      "Data columns (total 3 columns):\n",
      " #   Column  Non-Null Count  Dtype  \n",
      "---  ------  --------------  -----  \n",
      " 0   A       5 non-null      float64\n",
      " 1   B       5 non-null      float64\n",
      " 2   C       6 non-null      int64  \n",
      "dtypes: float64(2), int64(1)\n",
      "memory usage: 364.0+ bytes\n"
     ]
    }
   ],
   "source": [
    "df.info()"
   ]
  },
  {
   "cell_type": "code",
   "execution_count": 41,
   "metadata": {
    "collapsed": false,
    "jupyter": {
     "outputs_hidden": false
    },
    "scrolled": true
   },
   "outputs": [
    {
     "name": "stdout",
     "output_type": "stream",
     "text": [
      "Data type for array float64, integer types cast to this type\n"
     ]
    },
    {
     "data": {
      "text/plain": [
       "array([[   1.,   nan,    5.],\n",
       "       [   2.,  -46.,    5.],\n",
       "       [   3., -191.,    5.],\n",
       "       [   4.,   24.,    5.],\n",
       "       [   5.,  -46.,    5.],\n",
       "       [  nan,  -31.,    5.]])"
      ]
     },
     "execution_count": 41,
     "metadata": {},
     "output_type": "execute_result"
    }
   ],
   "source": [
    "# Dump all values out as a numpy array, widest type (float64) is chosen\n",
    "npdata = df.values\n",
    "print(f\"Data type for array {npdata.dtype}, integer types cast to this type\")\n",
    "npdata\n"
   ]
  },
  {
   "cell_type": "markdown",
   "metadata": {},
   "source": [
    "## Date/Time Functionality"
   ]
  },
  {
   "cell_type": "code",
   "execution_count": 42,
   "metadata": {
    "collapsed": false,
    "jupyter": {
     "outputs_hidden": false
    }
   },
   "outputs": [
    {
     "data": {
      "text/plain": [
       "Timestamp('2024-06-30 15:00:00+0000', tz='UTC')"
      ]
     },
     "execution_count": 42,
     "metadata": {},
     "output_type": "execute_result"
    }
   ],
   "source": [
    "dt = pd.to_datetime('2024-06-30 15:00:00', utc=True)\n",
    "dt"
   ]
  },
  {
   "cell_type": "code",
   "execution_count": 43,
   "metadata": {
    "collapsed": false,
    "jupyter": {
     "outputs_hidden": false
    }
   },
   "outputs": [
    {
     "data": {
      "text/plain": [
       "1719759600000000000"
      ]
     },
     "execution_count": 43,
     "metadata": {},
     "output_type": "execute_result"
    }
   ],
   "source": [
    "# Datetime in nanoseconds \n",
    "dt.value"
   ]
  },
  {
   "cell_type": "code",
   "execution_count": 44,
   "metadata": {
    "collapsed": false,
    "jupyter": {
     "outputs_hidden": false
    }
   },
   "outputs": [
    {
     "data": {
      "text/plain": [
       "Timestamp('2016-06-10 15:01:40+0000', tz='UTC')"
      ]
     },
     "execution_count": 44,
     "metadata": {},
     "output_type": "execute_result"
    }
   ],
   "source": [
    "pd.to_datetime(1465570900000000, unit='us', utc=True)"
   ]
  },
  {
   "cell_type": "markdown",
   "metadata": {},
   "source": [
    "## DatetimeIndex"
   ]
  },
  {
   "cell_type": "code",
   "execution_count": 46,
   "metadata": {
    "collapsed": false,
    "jupyter": {
     "outputs_hidden": false
    }
   },
   "outputs": [
    {
     "data": {
      "text/html": [
       "<div>\n",
       "<style scoped>\n",
       "    .dataframe tbody tr th:only-of-type {\n",
       "        vertical-align: middle;\n",
       "    }\n",
       "\n",
       "    .dataframe tbody tr th {\n",
       "        vertical-align: top;\n",
       "    }\n",
       "\n",
       "    .dataframe thead th {\n",
       "        text-align: right;\n",
       "    }\n",
       "</style>\n",
       "<table border=\"1\" class=\"dataframe\">\n",
       "  <thead>\n",
       "    <tr style=\"text-align: right;\">\n",
       "      <th></th>\n",
       "      <th>A</th>\n",
       "      <th>B</th>\n",
       "      <th>C</th>\n",
       "      <th>D</th>\n",
       "    </tr>\n",
       "  </thead>\n",
       "  <tbody>\n",
       "    <tr>\n",
       "      <th>2024-06-30 15:00:00</th>\n",
       "      <td>-0.248082</td>\n",
       "      <td>1.425270</td>\n",
       "      <td>2.800652</td>\n",
       "      <td>-0.203585</td>\n",
       "    </tr>\n",
       "    <tr>\n",
       "      <th>2024-06-30 15:00:10</th>\n",
       "      <td>-0.889896</td>\n",
       "      <td>-0.409338</td>\n",
       "      <td>0.808263</td>\n",
       "      <td>0.335561</td>\n",
       "    </tr>\n",
       "    <tr>\n",
       "      <th>2024-06-30 15:00:20</th>\n",
       "      <td>-0.967545</td>\n",
       "      <td>1.405518</td>\n",
       "      <td>-1.592395</td>\n",
       "      <td>-0.263960</td>\n",
       "    </tr>\n",
       "    <tr>\n",
       "      <th>2024-06-30 15:00:30</th>\n",
       "      <td>-0.276179</td>\n",
       "      <td>-0.856411</td>\n",
       "      <td>1.891036</td>\n",
       "      <td>0.162179</td>\n",
       "    </tr>\n",
       "    <tr>\n",
       "      <th>2024-06-30 15:00:40</th>\n",
       "      <td>-0.471133</td>\n",
       "      <td>0.558178</td>\n",
       "      <td>-0.722090</td>\n",
       "      <td>-0.572262</td>\n",
       "    </tr>\n",
       "    <tr>\n",
       "      <th>2024-06-30 15:00:50</th>\n",
       "      <td>0.625865</td>\n",
       "      <td>0.733817</td>\n",
       "      <td>-0.320910</td>\n",
       "      <td>-1.394545</td>\n",
       "    </tr>\n",
       "    <tr>\n",
       "      <th>2024-06-30 15:01:00</th>\n",
       "      <td>-0.701113</td>\n",
       "      <td>-0.672048</td>\n",
       "      <td>-0.918611</td>\n",
       "      <td>-0.972942</td>\n",
       "    </tr>\n",
       "    <tr>\n",
       "      <th>2024-06-30 15:01:10</th>\n",
       "      <td>1.435721</td>\n",
       "      <td>1.068423</td>\n",
       "      <td>0.049177</td>\n",
       "      <td>-0.857256</td>\n",
       "    </tr>\n",
       "    <tr>\n",
       "      <th>2024-06-30 15:01:20</th>\n",
       "      <td>0.719721</td>\n",
       "      <td>-0.520728</td>\n",
       "      <td>1.761536</td>\n",
       "      <td>1.127569</td>\n",
       "    </tr>\n",
       "    <tr>\n",
       "      <th>2024-06-30 15:01:30</th>\n",
       "      <td>0.604690</td>\n",
       "      <td>-1.028307</td>\n",
       "      <td>0.744526</td>\n",
       "      <td>0.313417</td>\n",
       "    </tr>\n",
       "  </tbody>\n",
       "</table>\n",
       "</div>"
      ],
      "text/plain": [
       "                            A         B         C         D\n",
       "2024-06-30 15:00:00 -0.248082  1.425270  2.800652 -0.203585\n",
       "2024-06-30 15:00:10 -0.889896 -0.409338  0.808263  0.335561\n",
       "2024-06-30 15:00:20 -0.967545  1.405518 -1.592395 -0.263960\n",
       "2024-06-30 15:00:30 -0.276179 -0.856411  1.891036  0.162179\n",
       "2024-06-30 15:00:40 -0.471133  0.558178 -0.722090 -0.572262\n",
       "2024-06-30 15:00:50  0.625865  0.733817 -0.320910 -1.394545\n",
       "2024-06-30 15:01:00 -0.701113 -0.672048 -0.918611 -0.972942\n",
       "2024-06-30 15:01:10  1.435721  1.068423  0.049177 -0.857256\n",
       "2024-06-30 15:01:20  0.719721 -0.520728  1.761536  1.127569\n",
       "2024-06-30 15:01:30  0.604690 -1.028307  0.744526  0.313417"
      ]
     },
     "execution_count": 46,
     "metadata": {},
     "output_type": "execute_result"
    }
   ],
   "source": [
    "dt_index = pd.date_range('2024-06-30 15:00:00', periods=100, freq='10s')\n",
    "df = pd.DataFrame(np.random.randn(100, 4), columns=list('ABCD'), index=dt_index)\n",
    "df.head()  # Only"
   ]
  },
  {
   "cell_type": "code",
   "execution_count": 48,
   "metadata": {
    "collapsed": false,
    "jupyter": {
     "outputs_hidden": false
    }
   },
   "outputs": [
    {
     "data": {
      "text/html": [
       "<div>\n",
       "<style scoped>\n",
       "    .dataframe tbody tr th:only-of-type {\n",
       "        vertical-align: middle;\n",
       "    }\n",
       "\n",
       "    .dataframe tbody tr th {\n",
       "        vertical-align: top;\n",
       "    }\n",
       "\n",
       "    .dataframe thead th {\n",
       "        text-align: right;\n",
       "    }\n",
       "</style>\n",
       "<table border=\"1\" class=\"dataframe\">\n",
       "  <thead>\n",
       "    <tr style=\"text-align: right;\">\n",
       "      <th></th>\n",
       "      <th>A</th>\n",
       "      <th>B</th>\n",
       "      <th>C</th>\n",
       "      <th>D</th>\n",
       "    </tr>\n",
       "  </thead>\n",
       "  <tbody>\n",
       "    <tr>\n",
       "      <th>2024-06-30 15:04:00</th>\n",
       "      <td>-0.631641</td>\n",
       "      <td>-0.838682</td>\n",
       "      <td>0.587874</td>\n",
       "      <td>0.264420</td>\n",
       "    </tr>\n",
       "    <tr>\n",
       "      <th>2024-06-30 15:04:10</th>\n",
       "      <td>0.265525</td>\n",
       "      <td>2.551609</td>\n",
       "      <td>0.754002</td>\n",
       "      <td>1.474881</td>\n",
       "    </tr>\n",
       "    <tr>\n",
       "      <th>2024-06-30 15:04:20</th>\n",
       "      <td>1.208569</td>\n",
       "      <td>-0.262767</td>\n",
       "      <td>0.363090</td>\n",
       "      <td>0.494688</td>\n",
       "    </tr>\n",
       "    <tr>\n",
       "      <th>2024-06-30 15:04:30</th>\n",
       "      <td>1.889381</td>\n",
       "      <td>0.631804</td>\n",
       "      <td>-0.419043</td>\n",
       "      <td>-0.360647</td>\n",
       "    </tr>\n",
       "    <tr>\n",
       "      <th>2024-06-30 15:04:40</th>\n",
       "      <td>-0.630999</td>\n",
       "      <td>-1.034184</td>\n",
       "      <td>1.444226</td>\n",
       "      <td>0.367584</td>\n",
       "    </tr>\n",
       "    <tr>\n",
       "      <th>2024-06-30 15:04:50</th>\n",
       "      <td>-0.698656</td>\n",
       "      <td>0.707995</td>\n",
       "      <td>0.156507</td>\n",
       "      <td>-0.564400</td>\n",
       "    </tr>\n",
       "    <tr>\n",
       "      <th>2024-06-30 15:05:00</th>\n",
       "      <td>-0.382509</td>\n",
       "      <td>-1.572537</td>\n",
       "      <td>-1.670088</td>\n",
       "      <td>0.435329</td>\n",
       "    </tr>\n",
       "  </tbody>\n",
       "</table>\n",
       "</div>"
      ],
      "text/plain": [
       "                            A         B         C         D\n",
       "2024-06-30 15:04:00 -0.631641 -0.838682  0.587874  0.264420\n",
       "2024-06-30 15:04:10  0.265525  2.551609  0.754002  1.474881\n",
       "2024-06-30 15:04:20  1.208569 -0.262767  0.363090  0.494688\n",
       "2024-06-30 15:04:30  1.889381  0.631804 -0.419043 -0.360647\n",
       "2024-06-30 15:04:40 -0.630999 -1.034184  1.444226  0.367584\n",
       "2024-06-30 15:04:50 -0.698656  0.707995  0.156507 -0.564400\n",
       "2024-06-30 15:05:00 -0.382509 -1.572537 -1.670088  0.435329"
      ]
     },
     "execution_count": 48,
     "metadata": {},
     "output_type": "execute_result"
    }
   ],
   "source": [
    "# Select based on timestamp, NOTE: includes the last timestamp\n",
    "df['2024-06-30 15:04:00':'2024-06-30 15:05:00']"
   ]
  },
  {
   "cell_type": "code",
   "execution_count": 49,
   "metadata": {
    "collapsed": false,
    "jupyter": {
     "outputs_hidden": false
    }
   },
   "outputs": [
    {
     "data": {
      "text/html": [
       "<div>\n",
       "<style scoped>\n",
       "    .dataframe tbody tr th:only-of-type {\n",
       "        vertical-align: middle;\n",
       "    }\n",
       "\n",
       "    .dataframe tbody tr th {\n",
       "        vertical-align: top;\n",
       "    }\n",
       "\n",
       "    .dataframe thead th {\n",
       "        text-align: right;\n",
       "    }\n",
       "</style>\n",
       "<table border=\"1\" class=\"dataframe\">\n",
       "  <thead>\n",
       "    <tr style=\"text-align: right;\">\n",
       "      <th></th>\n",
       "      <th>C</th>\n",
       "      <th>B</th>\n",
       "    </tr>\n",
       "  </thead>\n",
       "  <tbody>\n",
       "    <tr>\n",
       "      <th>2024-06-30 15:01:00</th>\n",
       "      <td>-0.918611</td>\n",
       "      <td>-0.672048</td>\n",
       "    </tr>\n",
       "    <tr>\n",
       "      <th>2024-06-30 15:01:10</th>\n",
       "      <td>0.049177</td>\n",
       "      <td>1.068423</td>\n",
       "    </tr>\n",
       "    <tr>\n",
       "      <th>2024-06-30 15:01:20</th>\n",
       "      <td>1.761536</td>\n",
       "      <td>-0.520728</td>\n",
       "    </tr>\n",
       "    <tr>\n",
       "      <th>2024-06-30 15:01:30</th>\n",
       "      <td>0.744526</td>\n",
       "      <td>-1.028307</td>\n",
       "    </tr>\n",
       "    <tr>\n",
       "      <th>2024-06-30 15:01:40</th>\n",
       "      <td>0.635198</td>\n",
       "      <td>-1.068195</td>\n",
       "    </tr>\n",
       "    <tr>\n",
       "      <th>2024-06-30 15:01:50</th>\n",
       "      <td>-1.474728</td>\n",
       "      <td>1.507668</td>\n",
       "    </tr>\n",
       "    <tr>\n",
       "      <th>2024-06-30 15:02:00</th>\n",
       "      <td>0.752643</td>\n",
       "      <td>-0.201688</td>\n",
       "    </tr>\n",
       "  </tbody>\n",
       "</table>\n",
       "</div>"
      ],
      "text/plain": [
       "                            C         B\n",
       "2024-06-30 15:01:00 -0.918611 -0.672048\n",
       "2024-06-30 15:01:10  0.049177  1.068423\n",
       "2024-06-30 15:01:20  1.761536 -0.520728\n",
       "2024-06-30 15:01:30  0.744526 -1.028307\n",
       "2024-06-30 15:01:40  0.635198 -1.068195\n",
       "2024-06-30 15:01:50 -1.474728  1.507668\n",
       "2024-06-30 15:02:00  0.752643 -0.201688"
      ]
     },
     "execution_count": 49,
     "metadata": {},
     "output_type": "execute_result"
    }
   ],
   "source": [
    "df.loc['2024-06-30 15:01:00':'2024-06-30 15:02:00', ['C', 'B']]"
   ]
  },
  {
   "cell_type": "markdown",
   "metadata": {},
   "source": [
    "## Data Analytics"
   ]
  },
  {
   "cell_type": "markdown",
   "metadata": {},
   "source": [
    "### Reading Data\n",
    "\n",
    "The first thing we need to do is get some data.  Pandas is VERY flexible and provides a plethora of ways to read data.   You can read from flat files (CSV, text, HTML, XML), databases, HDF5, Parquet, SPSS.  Pandas has you covered in reading data.   Since it is easiest I'm going to use CSV files\n",
    "\n",
    "- Reference the [Pandas Input/Output documentation](https://pandas.pydata.org/pandas-docs/stable/reference/io.html) for more information"
   ]
  },
  {
   "cell_type": "code",
   "execution_count": 50,
   "metadata": {},
   "outputs": [],
   "source": [
    "nvidia_data_file = Path.cwd() / 'data' / 'nvidia.csv'\n",
    "nvda_prices = pd.read_csv(nvidia_data_file)"
   ]
  },
  {
   "cell_type": "code",
   "execution_count": 51,
   "metadata": {},
   "outputs": [
    {
     "data": {
      "text/html": [
       "<div>\n",
       "<style scoped>\n",
       "    .dataframe tbody tr th:only-of-type {\n",
       "        vertical-align: middle;\n",
       "    }\n",
       "\n",
       "    .dataframe tbody tr th {\n",
       "        vertical-align: top;\n",
       "    }\n",
       "\n",
       "    .dataframe thead th {\n",
       "        text-align: right;\n",
       "    }\n",
       "</style>\n",
       "<table border=\"1\" class=\"dataframe\">\n",
       "  <thead>\n",
       "    <tr style=\"text-align: right;\">\n",
       "      <th></th>\n",
       "      <th>Date</th>\n",
       "      <th>Open</th>\n",
       "      <th>High</th>\n",
       "      <th>Low</th>\n",
       "      <th>Close</th>\n",
       "      <th>Adj Close</th>\n",
       "      <th>Volume</th>\n",
       "    </tr>\n",
       "  </thead>\n",
       "  <tbody>\n",
       "    <tr>\n",
       "      <th>0</th>\n",
       "      <td>2023-06-30</td>\n",
       "      <td>41.680000</td>\n",
       "      <td>42.549999</td>\n",
       "      <td>41.500999</td>\n",
       "      <td>42.301998</td>\n",
       "      <td>42.289337</td>\n",
       "      <td>501148000</td>\n",
       "    </tr>\n",
       "    <tr>\n",
       "      <th>1</th>\n",
       "      <td>2023-07-03</td>\n",
       "      <td>42.516998</td>\n",
       "      <td>42.897999</td>\n",
       "      <td>42.202000</td>\n",
       "      <td>42.412998</td>\n",
       "      <td>42.400307</td>\n",
       "      <td>198209000</td>\n",
       "    </tr>\n",
       "    <tr>\n",
       "      <th>2</th>\n",
       "      <td>2023-07-05</td>\n",
       "      <td>42.134998</td>\n",
       "      <td>43.176998</td>\n",
       "      <td>42.084999</td>\n",
       "      <td>42.317001</td>\n",
       "      <td>42.304337</td>\n",
       "      <td>323618000</td>\n",
       "    </tr>\n",
       "    <tr>\n",
       "      <th>3</th>\n",
       "      <td>2023-07-06</td>\n",
       "      <td>41.844002</td>\n",
       "      <td>42.179001</td>\n",
       "      <td>41.346001</td>\n",
       "      <td>42.103001</td>\n",
       "      <td>42.090397</td>\n",
       "      <td>303582000</td>\n",
       "    </tr>\n",
       "    <tr>\n",
       "      <th>4</th>\n",
       "      <td>2023-07-07</td>\n",
       "      <td>42.321999</td>\n",
       "      <td>43.214001</td>\n",
       "      <td>42.180000</td>\n",
       "      <td>42.502998</td>\n",
       "      <td>42.490276</td>\n",
       "      <td>355881000</td>\n",
       "    </tr>\n",
       "  </tbody>\n",
       "</table>\n",
       "</div>"
      ],
      "text/plain": [
       "         Date       Open       High        Low      Close  Adj Close  \\\n",
       "0  2023-06-30  41.680000  42.549999  41.500999  42.301998  42.289337   \n",
       "1  2023-07-03  42.516998  42.897999  42.202000  42.412998  42.400307   \n",
       "2  2023-07-05  42.134998  43.176998  42.084999  42.317001  42.304337   \n",
       "3  2023-07-06  41.844002  42.179001  41.346001  42.103001  42.090397   \n",
       "4  2023-07-07  42.321999  43.214001  42.180000  42.502998  42.490276   \n",
       "\n",
       "      Volume  \n",
       "0  501148000  \n",
       "1  198209000  \n",
       "2  323618000  \n",
       "3  303582000  \n",
       "4  355881000  "
      ]
     },
     "execution_count": 51,
     "metadata": {},
     "output_type": "execute_result"
    }
   ],
   "source": [
    "nvda_prices.head()"
   ]
  },
  {
   "cell_type": "code",
   "execution_count": 53,
   "metadata": {},
   "outputs": [
    {
     "name": "stdout",
     "output_type": "stream",
     "text": [
      "<class 'pandas.core.frame.DataFrame'>\n",
      "RangeIndex: 251 entries, 0 to 250\n",
      "Data columns (total 7 columns):\n",
      " #   Column     Non-Null Count  Dtype  \n",
      "---  ------     --------------  -----  \n",
      " 0   Date       251 non-null    object \n",
      " 1   Open       251 non-null    float64\n",
      " 2   High       251 non-null    float64\n",
      " 3   Low        251 non-null    float64\n",
      " 4   Close      251 non-null    float64\n",
      " 5   Adj Close  251 non-null    float64\n",
      " 6   Volume     251 non-null    int64  \n",
      "dtypes: float64(5), int64(1), object(1)\n",
      "memory usage: 13.9+ KB\n"
     ]
    }
   ],
   "source": [
    "nvda_prices.info()"
   ]
  },
  {
   "cell_type": "markdown",
   "metadata": {},
   "source": [
    "This is a pretty basic import, let's see if pandas can help us a little more.  The `read_csv` [method](https://pandas.pydata.org/pandas-docs/stable/reference/api/pandas.read_csv.html#pandas.read_csv) has about 30 kwargs to help so let's use a few."
   ]
  },
  {
   "cell_type": "code",
   "execution_count": 54,
   "metadata": {},
   "outputs": [
    {
     "data": {
      "text/html": [
       "<div>\n",
       "<style scoped>\n",
       "    .dataframe tbody tr th:only-of-type {\n",
       "        vertical-align: middle;\n",
       "    }\n",
       "\n",
       "    .dataframe tbody tr th {\n",
       "        vertical-align: top;\n",
       "    }\n",
       "\n",
       "    .dataframe thead th {\n",
       "        text-align: right;\n",
       "    }\n",
       "</style>\n",
       "<table border=\"1\" class=\"dataframe\">\n",
       "  <thead>\n",
       "    <tr style=\"text-align: right;\">\n",
       "      <th></th>\n",
       "      <th>Open</th>\n",
       "      <th>High</th>\n",
       "      <th>Low</th>\n",
       "      <th>Close</th>\n",
       "      <th>Adj Close</th>\n",
       "      <th>Volume</th>\n",
       "    </tr>\n",
       "    <tr>\n",
       "      <th>Date</th>\n",
       "      <th></th>\n",
       "      <th></th>\n",
       "      <th></th>\n",
       "      <th></th>\n",
       "      <th></th>\n",
       "      <th></th>\n",
       "    </tr>\n",
       "  </thead>\n",
       "  <tbody>\n",
       "    <tr>\n",
       "      <th>2023-06-30</th>\n",
       "      <td>41.680000</td>\n",
       "      <td>42.549999</td>\n",
       "      <td>41.500999</td>\n",
       "      <td>42.301998</td>\n",
       "      <td>42.289337</td>\n",
       "      <td>501148000</td>\n",
       "    </tr>\n",
       "    <tr>\n",
       "      <th>2023-07-03</th>\n",
       "      <td>42.516998</td>\n",
       "      <td>42.897999</td>\n",
       "      <td>42.202000</td>\n",
       "      <td>42.412998</td>\n",
       "      <td>42.400307</td>\n",
       "      <td>198209000</td>\n",
       "    </tr>\n",
       "    <tr>\n",
       "      <th>2023-07-05</th>\n",
       "      <td>42.134998</td>\n",
       "      <td>43.176998</td>\n",
       "      <td>42.084999</td>\n",
       "      <td>42.317001</td>\n",
       "      <td>42.304337</td>\n",
       "      <td>323618000</td>\n",
       "    </tr>\n",
       "    <tr>\n",
       "      <th>2023-07-06</th>\n",
       "      <td>41.844002</td>\n",
       "      <td>42.179001</td>\n",
       "      <td>41.346001</td>\n",
       "      <td>42.103001</td>\n",
       "      <td>42.090397</td>\n",
       "      <td>303582000</td>\n",
       "    </tr>\n",
       "    <tr>\n",
       "      <th>2023-07-07</th>\n",
       "      <td>42.321999</td>\n",
       "      <td>43.214001</td>\n",
       "      <td>42.180000</td>\n",
       "      <td>42.502998</td>\n",
       "      <td>42.490276</td>\n",
       "      <td>355881000</td>\n",
       "    </tr>\n",
       "    <tr>\n",
       "      <th>...</th>\n",
       "      <td>...</td>\n",
       "      <td>...</td>\n",
       "      <td>...</td>\n",
       "      <td>...</td>\n",
       "      <td>...</td>\n",
       "      <td>...</td>\n",
       "    </tr>\n",
       "    <tr>\n",
       "      <th>2024-06-24</th>\n",
       "      <td>123.239998</td>\n",
       "      <td>124.459999</td>\n",
       "      <td>118.040001</td>\n",
       "      <td>118.110001</td>\n",
       "      <td>118.110001</td>\n",
       "      <td>476060900</td>\n",
       "    </tr>\n",
       "    <tr>\n",
       "      <th>2024-06-25</th>\n",
       "      <td>121.199997</td>\n",
       "      <td>126.500000</td>\n",
       "      <td>119.320000</td>\n",
       "      <td>126.089996</td>\n",
       "      <td>126.089996</td>\n",
       "      <td>425787500</td>\n",
       "    </tr>\n",
       "    <tr>\n",
       "      <th>2024-06-26</th>\n",
       "      <td>126.129997</td>\n",
       "      <td>128.119995</td>\n",
       "      <td>122.599998</td>\n",
       "      <td>126.400002</td>\n",
       "      <td>126.400002</td>\n",
       "      <td>362975900</td>\n",
       "    </tr>\n",
       "    <tr>\n",
       "      <th>2024-06-27</th>\n",
       "      <td>124.099998</td>\n",
       "      <td>126.410004</td>\n",
       "      <td>122.919998</td>\n",
       "      <td>123.989998</td>\n",
       "      <td>123.989998</td>\n",
       "      <td>252571700</td>\n",
       "    </tr>\n",
       "    <tr>\n",
       "      <th>2024-06-28</th>\n",
       "      <td>124.580002</td>\n",
       "      <td>127.709999</td>\n",
       "      <td>122.750000</td>\n",
       "      <td>123.540001</td>\n",
       "      <td>123.540001</td>\n",
       "      <td>314945500</td>\n",
       "    </tr>\n",
       "  </tbody>\n",
       "</table>\n",
       "<p>251 rows × 6 columns</p>\n",
       "</div>"
      ],
      "text/plain": [
       "                  Open        High         Low       Close   Adj Close  \\\n",
       "Date                                                                     \n",
       "2023-06-30   41.680000   42.549999   41.500999   42.301998   42.289337   \n",
       "2023-07-03   42.516998   42.897999   42.202000   42.412998   42.400307   \n",
       "2023-07-05   42.134998   43.176998   42.084999   42.317001   42.304337   \n",
       "2023-07-06   41.844002   42.179001   41.346001   42.103001   42.090397   \n",
       "2023-07-07   42.321999   43.214001   42.180000   42.502998   42.490276   \n",
       "...                ...         ...         ...         ...         ...   \n",
       "2024-06-24  123.239998  124.459999  118.040001  118.110001  118.110001   \n",
       "2024-06-25  121.199997  126.500000  119.320000  126.089996  126.089996   \n",
       "2024-06-26  126.129997  128.119995  122.599998  126.400002  126.400002   \n",
       "2024-06-27  124.099998  126.410004  122.919998  123.989998  123.989998   \n",
       "2024-06-28  124.580002  127.709999  122.750000  123.540001  123.540001   \n",
       "\n",
       "               Volume  \n",
       "Date                   \n",
       "2023-06-30  501148000  \n",
       "2023-07-03  198209000  \n",
       "2023-07-05  323618000  \n",
       "2023-07-06  303582000  \n",
       "2023-07-07  355881000  \n",
       "...               ...  \n",
       "2024-06-24  476060900  \n",
       "2024-06-25  425787500  \n",
       "2024-06-26  362975900  \n",
       "2024-06-27  252571700  \n",
       "2024-06-28  314945500  \n",
       "\n",
       "[251 rows x 6 columns]"
      ]
     },
     "execution_count": 54,
     "metadata": {},
     "output_type": "execute_result"
    }
   ],
   "source": [
    "nvda_prices = pd.read_csv(nvidia_data_file,\n",
    "                          parse_dates=['Date'], # parse dates in one (or more columns)\n",
    "                          index_col='Date',\n",
    "                         )\n",
    "nvda_prices"
   ]
  },
  {
   "cell_type": "code",
   "execution_count": 56,
   "metadata": {},
   "outputs": [
    {
     "data": {
      "text/html": [
       "<div>\n",
       "<style scoped>\n",
       "    .dataframe tbody tr th:only-of-type {\n",
       "        vertical-align: middle;\n",
       "    }\n",
       "\n",
       "    .dataframe tbody tr th {\n",
       "        vertical-align: top;\n",
       "    }\n",
       "\n",
       "    .dataframe thead th {\n",
       "        text-align: right;\n",
       "    }\n",
       "</style>\n",
       "<table border=\"1\" class=\"dataframe\">\n",
       "  <thead>\n",
       "    <tr style=\"text-align: right;\">\n",
       "      <th></th>\n",
       "      <th>Open</th>\n",
       "      <th>High</th>\n",
       "      <th>Low</th>\n",
       "      <th>Close</th>\n",
       "      <th>Adj Close</th>\n",
       "      <th>Volume</th>\n",
       "    </tr>\n",
       "    <tr>\n",
       "      <th>Date</th>\n",
       "      <th></th>\n",
       "      <th></th>\n",
       "      <th></th>\n",
       "      <th></th>\n",
       "      <th></th>\n",
       "      <th></th>\n",
       "    </tr>\n",
       "  </thead>\n",
       "  <tbody>\n",
       "    <tr>\n",
       "      <th>2023-10-24</th>\n",
       "      <td>43.077000</td>\n",
       "      <td>43.696999</td>\n",
       "      <td>42.691002</td>\n",
       "      <td>43.662998</td>\n",
       "      <td>43.653526</td>\n",
       "      <td>401463000</td>\n",
       "    </tr>\n",
       "    <tr>\n",
       "      <th>2023-09-29</th>\n",
       "      <td>43.827000</td>\n",
       "      <td>44.144001</td>\n",
       "      <td>43.306999</td>\n",
       "      <td>43.499001</td>\n",
       "      <td>43.489563</td>\n",
       "      <td>397830000</td>\n",
       "    </tr>\n",
       "    <tr>\n",
       "      <th>2023-07-28</th>\n",
       "      <td>46.667999</td>\n",
       "      <td>47.027000</td>\n",
       "      <td>46.381001</td>\n",
       "      <td>46.750000</td>\n",
       "      <td>46.736008</td>\n",
       "      <td>331194000</td>\n",
       "    </tr>\n",
       "    <tr>\n",
       "      <th>2023-08-04</th>\n",
       "      <td>44.985001</td>\n",
       "      <td>45.641998</td>\n",
       "      <td>44.393002</td>\n",
       "      <td>44.680000</td>\n",
       "      <td>44.666626</td>\n",
       "      <td>362666000</td>\n",
       "    </tr>\n",
       "    <tr>\n",
       "      <th>2024-01-22</th>\n",
       "      <td>60.049000</td>\n",
       "      <td>60.331001</td>\n",
       "      <td>59.070000</td>\n",
       "      <td>59.653999</td>\n",
       "      <td>59.646305</td>\n",
       "      <td>452955000</td>\n",
       "    </tr>\n",
       "  </tbody>\n",
       "</table>\n",
       "</div>"
      ],
      "text/plain": [
       "                 Open       High        Low      Close  Adj Close     Volume\n",
       "Date                                                                        \n",
       "2023-10-24  43.077000  43.696999  42.691002  43.662998  43.653526  401463000\n",
       "2023-09-29  43.827000  44.144001  43.306999  43.499001  43.489563  397830000\n",
       "2023-07-28  46.667999  47.027000  46.381001  46.750000  46.736008  331194000\n",
       "2023-08-04  44.985001  45.641998  44.393002  44.680000  44.666626  362666000\n",
       "2024-01-22  60.049000  60.331001  59.070000  59.653999  59.646305  452955000"
      ]
     },
     "execution_count": 56,
     "metadata": {},
     "output_type": "execute_result"
    }
   ],
   "source": [
    "nvda_prices.sample(5)"
   ]
  },
  {
   "cell_type": "code",
   "execution_count": 57,
   "metadata": {},
   "outputs": [
    {
     "data": {
      "text/plain": [
       "DatetimeIndex(['2023-06-30', '2023-07-03', '2023-07-05', '2023-07-06',\n",
       "               '2023-07-07', '2023-07-10', '2023-07-11', '2023-07-12',\n",
       "               '2023-07-13', '2023-07-14',\n",
       "               ...\n",
       "               '2024-06-14', '2024-06-17', '2024-06-18', '2024-06-20',\n",
       "               '2024-06-21', '2024-06-24', '2024-06-25', '2024-06-26',\n",
       "               '2024-06-27', '2024-06-28'],\n",
       "              dtype='datetime64[ns]', name='Date', length=251, freq=None)"
      ]
     },
     "execution_count": 57,
     "metadata": {},
     "output_type": "execute_result"
    }
   ],
   "source": [
    "nvda_prices.index"
   ]
  },
  {
   "cell_type": "code",
   "execution_count": 58,
   "metadata": {},
   "outputs": [
    {
     "data": {
      "text/html": [
       "<div>\n",
       "<style scoped>\n",
       "    .dataframe tbody tr th:only-of-type {\n",
       "        vertical-align: middle;\n",
       "    }\n",
       "\n",
       "    .dataframe tbody tr th {\n",
       "        vertical-align: top;\n",
       "    }\n",
       "\n",
       "    .dataframe thead th {\n",
       "        text-align: right;\n",
       "    }\n",
       "</style>\n",
       "<table border=\"1\" class=\"dataframe\">\n",
       "  <thead>\n",
       "    <tr style=\"text-align: right;\">\n",
       "      <th></th>\n",
       "      <th>Open</th>\n",
       "      <th>High</th>\n",
       "      <th>Low</th>\n",
       "      <th>Close</th>\n",
       "      <th>Adj Close</th>\n",
       "      <th>Volume</th>\n",
       "    </tr>\n",
       "  </thead>\n",
       "  <tbody>\n",
       "    <tr>\n",
       "      <th>count</th>\n",
       "      <td>251.000000</td>\n",
       "      <td>251.000000</td>\n",
       "      <td>251.000000</td>\n",
       "      <td>251.000000</td>\n",
       "      <td>251.000000</td>\n",
       "      <td>2.510000e+02</td>\n",
       "    </tr>\n",
       "    <tr>\n",
       "      <th>mean</th>\n",
       "      <td>66.004518</td>\n",
       "      <td>67.140968</td>\n",
       "      <td>64.754379</td>\n",
       "      <td>66.036861</td>\n",
       "      <td>66.027970</td>\n",
       "      <td>4.709741e+08</td>\n",
       "    </tr>\n",
       "    <tr>\n",
       "      <th>std</th>\n",
       "      <td>25.737056</td>\n",
       "      <td>26.292987</td>\n",
       "      <td>25.051999</td>\n",
       "      <td>25.724588</td>\n",
       "      <td>25.726558</td>\n",
       "      <td>1.505561e+08</td>\n",
       "    </tr>\n",
       "    <tr>\n",
       "      <th>min</th>\n",
       "      <td>40.450001</td>\n",
       "      <td>40.879002</td>\n",
       "      <td>39.230000</td>\n",
       "      <td>40.326000</td>\n",
       "      <td>40.317253</td>\n",
       "      <td>1.982090e+08</td>\n",
       "    </tr>\n",
       "    <tr>\n",
       "      <th>25%</th>\n",
       "      <td>45.709502</td>\n",
       "      <td>46.200499</td>\n",
       "      <td>44.917500</td>\n",
       "      <td>45.576500</td>\n",
       "      <td>45.566616</td>\n",
       "      <td>3.727255e+08</td>\n",
       "    </tr>\n",
       "    <tr>\n",
       "      <th>50%</th>\n",
       "      <td>49.680000</td>\n",
       "      <td>49.999001</td>\n",
       "      <td>49.040001</td>\n",
       "      <td>49.521999</td>\n",
       "      <td>49.515610</td>\n",
       "      <td>4.373420e+08</td>\n",
       "    </tr>\n",
       "    <tr>\n",
       "      <th>75%</th>\n",
       "      <td>87.431000</td>\n",
       "      <td>88.824501</td>\n",
       "      <td>85.927502</td>\n",
       "      <td>87.471501</td>\n",
       "      <td>87.464317</td>\n",
       "      <td>5.293560e+08</td>\n",
       "    </tr>\n",
       "    <tr>\n",
       "      <th>max</th>\n",
       "      <td>139.800003</td>\n",
       "      <td>140.759995</td>\n",
       "      <td>130.690002</td>\n",
       "      <td>135.580002</td>\n",
       "      <td>135.580002</td>\n",
       "      <td>1.156044e+09</td>\n",
       "    </tr>\n",
       "  </tbody>\n",
       "</table>\n",
       "</div>"
      ],
      "text/plain": [
       "             Open        High         Low       Close   Adj Close  \\\n",
       "count  251.000000  251.000000  251.000000  251.000000  251.000000   \n",
       "mean    66.004518   67.140968   64.754379   66.036861   66.027970   \n",
       "std     25.737056   26.292987   25.051999   25.724588   25.726558   \n",
       "min     40.450001   40.879002   39.230000   40.326000   40.317253   \n",
       "25%     45.709502   46.200499   44.917500   45.576500   45.566616   \n",
       "50%     49.680000   49.999001   49.040001   49.521999   49.515610   \n",
       "75%     87.431000   88.824501   85.927502   87.471501   87.464317   \n",
       "max    139.800003  140.759995  130.690002  135.580002  135.580002   \n",
       "\n",
       "             Volume  \n",
       "count  2.510000e+02  \n",
       "mean   4.709741e+08  \n",
       "std    1.505561e+08  \n",
       "min    1.982090e+08  \n",
       "25%    3.727255e+08  \n",
       "50%    4.373420e+08  \n",
       "75%    5.293560e+08  \n",
       "max    1.156044e+09  "
      ]
     },
     "execution_count": 58,
     "metadata": {},
     "output_type": "execute_result"
    }
   ],
   "source": [
    "nvda_prices.describe()"
   ]
  },
  {
   "cell_type": "code",
   "execution_count": 59,
   "metadata": {},
   "outputs": [
    {
     "data": {
      "image/png": "[encoded data removed]",
      "text/plain": [
       "<Figure size 640x480 with 1 Axes>"
      ]
     },
     "metadata": {},
     "output_type": "display_data"
    }
   ],
   "source": [
    "nvda_prices['Close'].plot(grid=True);"
   ]
  },
  {
   "cell_type": "code",
   "execution_count": 60,
   "metadata": {},
   "outputs": [
    {
     "data": {
      "text/html": [
       "<div>\n",
       "<style scoped>\n",
       "    .dataframe tbody tr th:only-of-type {\n",
       "        vertical-align: middle;\n",
       "    }\n",
       "\n",
       "    .dataframe tbody tr th {\n",
       "        vertical-align: top;\n",
       "    }\n",
       "\n",
       "    .dataframe thead th {\n",
       "        text-align: right;\n",
       "    }\n",
       "</style>\n",
       "<table border=\"1\" class=\"dataframe\">\n",
       "  <thead>\n",
       "    <tr style=\"text-align: right;\">\n",
       "      <th></th>\n",
       "      <th>Open</th>\n",
       "      <th>High</th>\n",
       "      <th>Low</th>\n",
       "      <th>Close</th>\n",
       "      <th>Adj Close</th>\n",
       "      <th>Volume</th>\n",
       "    </tr>\n",
       "    <tr>\n",
       "      <th>Date</th>\n",
       "      <th></th>\n",
       "      <th></th>\n",
       "      <th></th>\n",
       "      <th></th>\n",
       "      <th></th>\n",
       "      <th></th>\n",
       "    </tr>\n",
       "  </thead>\n",
       "  <tbody>\n",
       "    <tr>\n",
       "      <th>2024-06-28</th>\n",
       "      <td>124.580002</td>\n",
       "      <td>127.709999</td>\n",
       "      <td>122.750000</td>\n",
       "      <td>123.540001</td>\n",
       "      <td>123.540001</td>\n",
       "      <td>314945500</td>\n",
       "    </tr>\n",
       "    <tr>\n",
       "      <th>2024-06-27</th>\n",
       "      <td>124.099998</td>\n",
       "      <td>126.410004</td>\n",
       "      <td>122.919998</td>\n",
       "      <td>123.989998</td>\n",
       "      <td>123.989998</td>\n",
       "      <td>252571700</td>\n",
       "    </tr>\n",
       "    <tr>\n",
       "      <th>2024-06-26</th>\n",
       "      <td>126.129997</td>\n",
       "      <td>128.119995</td>\n",
       "      <td>122.599998</td>\n",
       "      <td>126.400002</td>\n",
       "      <td>126.400002</td>\n",
       "      <td>362975900</td>\n",
       "    </tr>\n",
       "    <tr>\n",
       "      <th>2024-06-25</th>\n",
       "      <td>121.199997</td>\n",
       "      <td>126.500000</td>\n",
       "      <td>119.320000</td>\n",
       "      <td>126.089996</td>\n",
       "      <td>126.089996</td>\n",
       "      <td>425787500</td>\n",
       "    </tr>\n",
       "    <tr>\n",
       "      <th>2024-06-24</th>\n",
       "      <td>123.239998</td>\n",
       "      <td>124.459999</td>\n",
       "      <td>118.040001</td>\n",
       "      <td>118.110001</td>\n",
       "      <td>118.110001</td>\n",
       "      <td>476060900</td>\n",
       "    </tr>\n",
       "    <tr>\n",
       "      <th>...</th>\n",
       "      <td>...</td>\n",
       "      <td>...</td>\n",
       "      <td>...</td>\n",
       "      <td>...</td>\n",
       "      <td>...</td>\n",
       "      <td>...</td>\n",
       "    </tr>\n",
       "    <tr>\n",
       "      <th>2023-07-07</th>\n",
       "      <td>42.321999</td>\n",
       "      <td>43.214001</td>\n",
       "      <td>42.180000</td>\n",
       "      <td>42.502998</td>\n",
       "      <td>42.490276</td>\n",
       "      <td>355881000</td>\n",
       "    </tr>\n",
       "    <tr>\n",
       "      <th>2023-07-06</th>\n",
       "      <td>41.844002</td>\n",
       "      <td>42.179001</td>\n",
       "      <td>41.346001</td>\n",
       "      <td>42.103001</td>\n",
       "      <td>42.090397</td>\n",
       "      <td>303582000</td>\n",
       "    </tr>\n",
       "    <tr>\n",
       "      <th>2023-07-05</th>\n",
       "      <td>42.134998</td>\n",
       "      <td>43.176998</td>\n",
       "      <td>42.084999</td>\n",
       "      <td>42.317001</td>\n",
       "      <td>42.304337</td>\n",
       "      <td>323618000</td>\n",
       "    </tr>\n",
       "    <tr>\n",
       "      <th>2023-07-03</th>\n",
       "      <td>42.516998</td>\n",
       "      <td>42.897999</td>\n",
       "      <td>42.202000</td>\n",
       "      <td>42.412998</td>\n",
       "      <td>42.400307</td>\n",
       "      <td>198209000</td>\n",
       "    </tr>\n",
       "    <tr>\n",
       "      <th>2023-06-30</th>\n",
       "      <td>41.680000</td>\n",
       "      <td>42.549999</td>\n",
       "      <td>41.500999</td>\n",
       "      <td>42.301998</td>\n",
       "      <td>42.289337</td>\n",
       "      <td>501148000</td>\n",
       "    </tr>\n",
       "  </tbody>\n",
       "</table>\n",
       "<p>251 rows × 6 columns</p>\n",
       "</div>"
      ],
      "text/plain": [
       "                  Open        High         Low       Close   Adj Close  \\\n",
       "Date                                                                     \n",
       "2024-06-28  124.580002  127.709999  122.750000  123.540001  123.540001   \n",
       "2024-06-27  124.099998  126.410004  122.919998  123.989998  123.989998   \n",
       "2024-06-26  126.129997  128.119995  122.599998  126.400002  126.400002   \n",
       "2024-06-25  121.199997  126.500000  119.320000  126.089996  126.089996   \n",
       "2024-06-24  123.239998  124.459999  118.040001  118.110001  118.110001   \n",
       "...                ...         ...         ...         ...         ...   \n",
       "2023-07-07   42.321999   43.214001   42.180000   42.502998   42.490276   \n",
       "2023-07-06   41.844002   42.179001   41.346001   42.103001   42.090397   \n",
       "2023-07-05   42.134998   43.176998   42.084999   42.317001   42.304337   \n",
       "2023-07-03   42.516998   42.897999   42.202000   42.412998   42.400307   \n",
       "2023-06-30   41.680000   42.549999   41.500999   42.301998   42.289337   \n",
       "\n",
       "               Volume  \n",
       "Date                   \n",
       "2024-06-28  314945500  \n",
       "2024-06-27  252571700  \n",
       "2024-06-26  362975900  \n",
       "2024-06-25  425787500  \n",
       "2024-06-24  476060900  \n",
       "...               ...  \n",
       "2023-07-07  355881000  \n",
       "2023-07-06  303582000  \n",
       "2023-07-05  323618000  \n",
       "2023-07-03  198209000  \n",
       "2023-06-30  501148000  \n",
       "\n",
       "[251 rows x 6 columns]"
      ]
     },
     "execution_count": 60,
     "metadata": {},
     "output_type": "execute_result"
    }
   ],
   "source": [
    "nvda_prices.sort_index(ascending=False)"
   ]
  },
  {
   "cell_type": "code",
   "execution_count": 61,
   "metadata": {},
   "outputs": [
    {
     "data": {
      "text/html": [
       "<div>\n",
       "<style scoped>\n",
       "    .dataframe tbody tr th:only-of-type {\n",
       "        vertical-align: middle;\n",
       "    }\n",
       "\n",
       "    .dataframe tbody tr th {\n",
       "        vertical-align: top;\n",
       "    }\n",
       "\n",
       "    .dataframe thead th {\n",
       "        text-align: right;\n",
       "    }\n",
       "</style>\n",
       "<table border=\"1\" class=\"dataframe\">\n",
       "  <thead>\n",
       "    <tr style=\"text-align: right;\">\n",
       "      <th></th>\n",
       "      <th>Open</th>\n",
       "      <th>High</th>\n",
       "      <th>Low</th>\n",
       "      <th>Close</th>\n",
       "      <th>Adj Close</th>\n",
       "      <th>Volume</th>\n",
       "    </tr>\n",
       "    <tr>\n",
       "      <th>Date</th>\n",
       "      <th></th>\n",
       "      <th></th>\n",
       "      <th></th>\n",
       "      <th></th>\n",
       "      <th></th>\n",
       "      <th></th>\n",
       "    </tr>\n",
       "  </thead>\n",
       "  <tbody>\n",
       "    <tr>\n",
       "      <th>2024-06-18</th>\n",
       "      <td>131.139999</td>\n",
       "      <td>136.330002</td>\n",
       "      <td>130.690002</td>\n",
       "      <td>135.580002</td>\n",
       "      <td>135.580002</td>\n",
       "      <td>294335100</td>\n",
       "    </tr>\n",
       "    <tr>\n",
       "      <th>2024-06-14</th>\n",
       "      <td>129.960007</td>\n",
       "      <td>132.839996</td>\n",
       "      <td>128.320007</td>\n",
       "      <td>131.880005</td>\n",
       "      <td>131.880005</td>\n",
       "      <td>309320400</td>\n",
       "    </tr>\n",
       "    <tr>\n",
       "      <th>2024-06-17</th>\n",
       "      <td>132.990005</td>\n",
       "      <td>133.729996</td>\n",
       "      <td>129.580002</td>\n",
       "      <td>130.979996</td>\n",
       "      <td>130.979996</td>\n",
       "      <td>288504400</td>\n",
       "    </tr>\n",
       "    <tr>\n",
       "      <th>2024-06-20</th>\n",
       "      <td>139.800003</td>\n",
       "      <td>140.759995</td>\n",
       "      <td>129.520004</td>\n",
       "      <td>130.779999</td>\n",
       "      <td>130.779999</td>\n",
       "      <td>517768400</td>\n",
       "    </tr>\n",
       "    <tr>\n",
       "      <th>2024-06-13</th>\n",
       "      <td>129.389999</td>\n",
       "      <td>129.800003</td>\n",
       "      <td>127.160004</td>\n",
       "      <td>129.610001</td>\n",
       "      <td>129.610001</td>\n",
       "      <td>260704500</td>\n",
       "    </tr>\n",
       "  </tbody>\n",
       "</table>\n",
       "</div>"
      ],
      "text/plain": [
       "                  Open        High         Low       Close   Adj Close  \\\n",
       "Date                                                                     \n",
       "2024-06-18  131.139999  136.330002  130.690002  135.580002  135.580002   \n",
       "2024-06-14  129.960007  132.839996  128.320007  131.880005  131.880005   \n",
       "2024-06-17  132.990005  133.729996  129.580002  130.979996  130.979996   \n",
       "2024-06-20  139.800003  140.759995  129.520004  130.779999  130.779999   \n",
       "2024-06-13  129.389999  129.800003  127.160004  129.610001  129.610001   \n",
       "\n",
       "               Volume  \n",
       "Date                   \n",
       "2024-06-18  294335100  \n",
       "2024-06-14  309320400  \n",
       "2024-06-17  288504400  \n",
       "2024-06-20  517768400  \n",
       "2024-06-13  260704500  "
      ]
     },
     "execution_count": 61,
     "metadata": {},
     "output_type": "execute_result"
    }
   ],
   "source": [
    "nvda_prices.nlargest(columns=['Close'], n=5)"
   ]
  },
  {
   "cell_type": "code",
   "execution_count": 62,
   "metadata": {},
   "outputs": [
    {
     "data": {
      "text/html": [
       "<div>\n",
       "<style scoped>\n",
       "    .dataframe tbody tr th:only-of-type {\n",
       "        vertical-align: middle;\n",
       "    }\n",
       "\n",
       "    .dataframe tbody tr th {\n",
       "        vertical-align: top;\n",
       "    }\n",
       "\n",
       "    .dataframe thead th {\n",
       "        text-align: right;\n",
       "    }\n",
       "</style>\n",
       "<table border=\"1\" class=\"dataframe\">\n",
       "  <thead>\n",
       "    <tr style=\"text-align: right;\">\n",
       "      <th></th>\n",
       "      <th>Open</th>\n",
       "      <th>High</th>\n",
       "      <th>Low</th>\n",
       "      <th>Close</th>\n",
       "      <th>Adj Close</th>\n",
       "      <th>Volume</th>\n",
       "    </tr>\n",
       "    <tr>\n",
       "      <th>Date</th>\n",
       "      <th></th>\n",
       "      <th></th>\n",
       "      <th></th>\n",
       "      <th></th>\n",
       "      <th></th>\n",
       "      <th></th>\n",
       "    </tr>\n",
       "  </thead>\n",
       "  <tbody>\n",
       "    <tr>\n",
       "      <th>2023-10-26</th>\n",
       "      <td>41.853001</td>\n",
       "      <td>42.256001</td>\n",
       "      <td>39.880001</td>\n",
       "      <td>40.326000</td>\n",
       "      <td>40.317253</td>\n",
       "      <td>541001000</td>\n",
       "    </tr>\n",
       "    <tr>\n",
       "      <th>2023-10-27</th>\n",
       "      <td>41.130001</td>\n",
       "      <td>41.206001</td>\n",
       "      <td>40.014999</td>\n",
       "      <td>40.500000</td>\n",
       "      <td>40.491215</td>\n",
       "      <td>416784000</td>\n",
       "    </tr>\n",
       "    <tr>\n",
       "      <th>2023-10-31</th>\n",
       "      <td>40.450001</td>\n",
       "      <td>40.879002</td>\n",
       "      <td>39.230000</td>\n",
       "      <td>40.779999</td>\n",
       "      <td>40.771152</td>\n",
       "      <td>517969000</td>\n",
       "    </tr>\n",
       "    <tr>\n",
       "      <th>2023-08-11</th>\n",
       "      <td>41.750999</td>\n",
       "      <td>42.018002</td>\n",
       "      <td>40.639000</td>\n",
       "      <td>40.855000</td>\n",
       "      <td>40.842773</td>\n",
       "      <td>533085000</td>\n",
       "    </tr>\n",
       "    <tr>\n",
       "      <th>2023-09-21</th>\n",
       "      <td>41.583000</td>\n",
       "      <td>42.099998</td>\n",
       "      <td>40.980000</td>\n",
       "      <td>41.016998</td>\n",
       "      <td>41.008102</td>\n",
       "      <td>450736000</td>\n",
       "    </tr>\n",
       "  </tbody>\n",
       "</table>\n",
       "</div>"
      ],
      "text/plain": [
       "                 Open       High        Low      Close  Adj Close     Volume\n",
       "Date                                                                        \n",
       "2023-10-26  41.853001  42.256001  39.880001  40.326000  40.317253  541001000\n",
       "2023-10-27  41.130001  41.206001  40.014999  40.500000  40.491215  416784000\n",
       "2023-10-31  40.450001  40.879002  39.230000  40.779999  40.771152  517969000\n",
       "2023-08-11  41.750999  42.018002  40.639000  40.855000  40.842773  533085000\n",
       "2023-09-21  41.583000  42.099998  40.980000  41.016998  41.008102  450736000"
      ]
     },
     "execution_count": 62,
     "metadata": {},
     "output_type": "execute_result"
    }
   ],
   "source": [
    "nvda_prices.nsmallest(columns=['Close'], n=5)"
   ]
  },
  {
   "cell_type": "markdown",
   "metadata": {},
   "source": [
    "## Data Filtering and Selection"
   ]
  },
  {
   "cell_type": "code",
   "execution_count": 63,
   "metadata": {},
   "outputs": [
    {
     "name": "stdout",
     "output_type": "stream",
     "text": [
      "<class 'pandas.core.frame.DataFrame'>\n",
      "RangeIndex: 19239 entries, 0 to 19238\n",
      "Columns: 110 entries, sofifa_id to nation_flag_url\n",
      "dtypes: float64(16), int64(44), object(50)\n",
      "memory usage: 16.1+ MB\n"
     ]
    }
   ],
   "source": [
    "fifa_file = Path.cwd() / 'data' / 'fifa_players_22.csv'\n",
    "players = pd.read_csv(fifa_file, low_memory=False)\n",
    "players.info()"
   ]
  },
  {
   "cell_type": "code",
   "execution_count": 64,
   "metadata": {},
   "outputs": [
    {
     "name": "stdout",
     "output_type": "stream",
     "text": [
      "Player age column type: int64\n",
      "Player name column type: object\n",
      "Player gk rating column type: object\n"
     ]
    }
   ],
   "source": [
    "# Note pandas does the best job it can to get the data type for the field right\n",
    "print(f\"Player age column type: {players['age'].dtype}\")\n",
    "print(f\"Player name column type: {players['short_name'].dtype}\")   # object is default for string\n",
    "print(f\"Player gk rating column type: {players['gk'].dtype}\")      # this isn't exactly what we want"
   ]
  },
  {
   "cell_type": "code",
   "execution_count": 65,
   "metadata": {},
   "outputs": [
    {
     "data": {
      "text/html": [
       "<div>\n",
       "<style scoped>\n",
       "    .dataframe tbody tr th:only-of-type {\n",
       "        vertical-align: middle;\n",
       "    }\n",
       "\n",
       "    .dataframe tbody tr th {\n",
       "        vertical-align: top;\n",
       "    }\n",
       "\n",
       "    .dataframe thead th {\n",
       "        text-align: right;\n",
       "    }\n",
       "</style>\n",
       "<table border=\"1\" class=\"dataframe\">\n",
       "  <thead>\n",
       "    <tr style=\"text-align: right;\">\n",
       "      <th></th>\n",
       "      <th>short_name</th>\n",
       "      <th>overall</th>\n",
       "      <th>nationality_name</th>\n",
       "      <th>player_positions</th>\n",
       "      <th>age</th>\n",
       "      <th>preferred_foot</th>\n",
       "      <th>club_name</th>\n",
       "      <th>gk</th>\n",
       "    </tr>\n",
       "  </thead>\n",
       "  <tbody>\n",
       "    <tr>\n",
       "      <th>0</th>\n",
       "      <td>L. Messi</td>\n",
       "      <td>93</td>\n",
       "      <td>Argentina</td>\n",
       "      <td>RW, ST, CF</td>\n",
       "      <td>34</td>\n",
       "      <td>Left</td>\n",
       "      <td>Paris Saint-Germain</td>\n",
       "      <td>19+3</td>\n",
       "    </tr>\n",
       "    <tr>\n",
       "      <th>1</th>\n",
       "      <td>R. Lewandowski</td>\n",
       "      <td>92</td>\n",
       "      <td>Poland</td>\n",
       "      <td>ST</td>\n",
       "      <td>32</td>\n",
       "      <td>Right</td>\n",
       "      <td>FC Bayern München</td>\n",
       "      <td>19+3</td>\n",
       "    </tr>\n",
       "    <tr>\n",
       "      <th>2</th>\n",
       "      <td>Cristiano Ronaldo</td>\n",
       "      <td>91</td>\n",
       "      <td>Portugal</td>\n",
       "      <td>ST, LW</td>\n",
       "      <td>36</td>\n",
       "      <td>Right</td>\n",
       "      <td>Manchester United</td>\n",
       "      <td>20+3</td>\n",
       "    </tr>\n",
       "    <tr>\n",
       "      <th>3</th>\n",
       "      <td>Neymar Jr</td>\n",
       "      <td>91</td>\n",
       "      <td>Brazil</td>\n",
       "      <td>LW, CAM</td>\n",
       "      <td>29</td>\n",
       "      <td>Right</td>\n",
       "      <td>Paris Saint-Germain</td>\n",
       "      <td>20+3</td>\n",
       "    </tr>\n",
       "    <tr>\n",
       "      <th>4</th>\n",
       "      <td>K. De Bruyne</td>\n",
       "      <td>91</td>\n",
       "      <td>Belgium</td>\n",
       "      <td>CM, CAM</td>\n",
       "      <td>30</td>\n",
       "      <td>Right</td>\n",
       "      <td>Manchester City</td>\n",
       "      <td>21+3</td>\n",
       "    </tr>\n",
       "    <tr>\n",
       "      <th>5</th>\n",
       "      <td>J. Oblak</td>\n",
       "      <td>91</td>\n",
       "      <td>Slovenia</td>\n",
       "      <td>GK</td>\n",
       "      <td>28</td>\n",
       "      <td>Right</td>\n",
       "      <td>Atlético de Madrid</td>\n",
       "      <td>89+3</td>\n",
       "    </tr>\n",
       "    <tr>\n",
       "      <th>6</th>\n",
       "      <td>K. Mbappé</td>\n",
       "      <td>91</td>\n",
       "      <td>France</td>\n",
       "      <td>ST, LW</td>\n",
       "      <td>22</td>\n",
       "      <td>Right</td>\n",
       "      <td>Paris Saint-Germain</td>\n",
       "      <td>18+3</td>\n",
       "    </tr>\n",
       "    <tr>\n",
       "      <th>7</th>\n",
       "      <td>M. Neuer</td>\n",
       "      <td>90</td>\n",
       "      <td>Germany</td>\n",
       "      <td>GK</td>\n",
       "      <td>35</td>\n",
       "      <td>Right</td>\n",
       "      <td>FC Bayern München</td>\n",
       "      <td>88+2</td>\n",
       "    </tr>\n",
       "    <tr>\n",
       "      <th>8</th>\n",
       "      <td>M. ter Stegen</td>\n",
       "      <td>90</td>\n",
       "      <td>Germany</td>\n",
       "      <td>GK</td>\n",
       "      <td>29</td>\n",
       "      <td>Right</td>\n",
       "      <td>FC Barcelona</td>\n",
       "      <td>88+3</td>\n",
       "    </tr>\n",
       "    <tr>\n",
       "      <th>9</th>\n",
       "      <td>H. Kane</td>\n",
       "      <td>90</td>\n",
       "      <td>England</td>\n",
       "      <td>ST</td>\n",
       "      <td>27</td>\n",
       "      <td>Right</td>\n",
       "      <td>Tottenham Hotspur</td>\n",
       "      <td>20+3</td>\n",
       "    </tr>\n",
       "  </tbody>\n",
       "</table>\n",
       "</div>"
      ],
      "text/plain": [
       "          short_name  overall nationality_name player_positions  age  \\\n",
       "0           L. Messi       93        Argentina       RW, ST, CF   34   \n",
       "1     R. Lewandowski       92           Poland               ST   32   \n",
       "2  Cristiano Ronaldo       91         Portugal           ST, LW   36   \n",
       "3          Neymar Jr       91           Brazil          LW, CAM   29   \n",
       "4       K. De Bruyne       91          Belgium          CM, CAM   30   \n",
       "5           J. Oblak       91         Slovenia               GK   28   \n",
       "6          K. Mbappé       91           France           ST, LW   22   \n",
       "7           M. Neuer       90          Germany               GK   35   \n",
       "8      M. ter Stegen       90          Germany               GK   29   \n",
       "9            H. Kane       90          England               ST   27   \n",
       "\n",
       "  preferred_foot            club_name    gk  \n",
       "0           Left  Paris Saint-Germain  19+3  \n",
       "1          Right    FC Bayern München  19+3  \n",
       "2          Right    Manchester United  20+3  \n",
       "3          Right  Paris Saint-Germain  20+3  \n",
       "4          Right      Manchester City  21+3  \n",
       "5          Right   Atlético de Madrid  89+3  \n",
       "6          Right  Paris Saint-Germain  18+3  \n",
       "7          Right    FC Bayern München  88+2  \n",
       "8          Right         FC Barcelona  88+3  \n",
       "9          Right    Tottenham Hotspur  20+3  "
      ]
     },
     "execution_count": 65,
     "metadata": {},
     "output_type": "execute_result"
    }
   ],
   "source": [
    "columns_to_select= ['short_name', 'overall', 'nationality_name', 'player_positions', 'age', 'preferred_foot', 'club_name', 'gk']\n",
    "players[columns_to_select].head(10)"
   ]
  },
  {
   "cell_type": "code",
   "execution_count": 66,
   "metadata": {},
   "outputs": [
    {
     "data": {
      "text/html": [
       "<div>\n",
       "<style scoped>\n",
       "    .dataframe tbody tr th:only-of-type {\n",
       "        vertical-align: middle;\n",
       "    }\n",
       "\n",
       "    .dataframe tbody tr th {\n",
       "        vertical-align: top;\n",
       "    }\n",
       "\n",
       "    .dataframe thead th {\n",
       "        text-align: right;\n",
       "    }\n",
       "</style>\n",
       "<table border=\"1\" class=\"dataframe\">\n",
       "  <thead>\n",
       "    <tr style=\"text-align: right;\">\n",
       "      <th></th>\n",
       "      <th>short_name</th>\n",
       "      <th>overall</th>\n",
       "      <th>nationality_name</th>\n",
       "      <th>player_positions</th>\n",
       "      <th>age</th>\n",
       "      <th>preferred_foot</th>\n",
       "      <th>club_name</th>\n",
       "      <th>gk</th>\n",
       "    </tr>\n",
       "  </thead>\n",
       "  <tbody>\n",
       "    <tr>\n",
       "      <th>15</th>\n",
       "      <td>V. van Dijk</td>\n",
       "      <td>89</td>\n",
       "      <td>Netherlands</td>\n",
       "      <td>CB</td>\n",
       "      <td>29</td>\n",
       "      <td>Right</td>\n",
       "      <td>Liverpool</td>\n",
       "      <td>20+3</td>\n",
       "    </tr>\n",
       "    <tr>\n",
       "      <th>22</th>\n",
       "      <td>Sergio Ramos</td>\n",
       "      <td>88</td>\n",
       "      <td>Spain</td>\n",
       "      <td>CB</td>\n",
       "      <td>35</td>\n",
       "      <td>Right</td>\n",
       "      <td>Paris Saint-Germain</td>\n",
       "      <td>18+3</td>\n",
       "    </tr>\n",
       "    <tr>\n",
       "      <th>46</th>\n",
       "      <td>Rúben Dias</td>\n",
       "      <td>87</td>\n",
       "      <td>Portugal</td>\n",
       "      <td>CB</td>\n",
       "      <td>24</td>\n",
       "      <td>Right</td>\n",
       "      <td>Manchester City</td>\n",
       "      <td>17+3</td>\n",
       "    </tr>\n",
       "    <tr>\n",
       "      <th>47</th>\n",
       "      <td>G. Chiellini</td>\n",
       "      <td>86</td>\n",
       "      <td>Italy</td>\n",
       "      <td>CB</td>\n",
       "      <td>36</td>\n",
       "      <td>Left</td>\n",
       "      <td>Juventus</td>\n",
       "      <td>12+3</td>\n",
       "    </tr>\n",
       "    <tr>\n",
       "      <th>49</th>\n",
       "      <td>M. Hummels</td>\n",
       "      <td>86</td>\n",
       "      <td>Germany</td>\n",
       "      <td>CB</td>\n",
       "      <td>32</td>\n",
       "      <td>Right</td>\n",
       "      <td>Borussia Dortmund</td>\n",
       "      <td>17+3</td>\n",
       "    </tr>\n",
       "    <tr>\n",
       "      <th>56</th>\n",
       "      <td>K. Koulibaly</td>\n",
       "      <td>86</td>\n",
       "      <td>Senegal</td>\n",
       "      <td>CB</td>\n",
       "      <td>30</td>\n",
       "      <td>Right</td>\n",
       "      <td>Napoli</td>\n",
       "      <td>17+3</td>\n",
       "    </tr>\n",
       "    <tr>\n",
       "      <th>57</th>\n",
       "      <td>R. Varane</td>\n",
       "      <td>86</td>\n",
       "      <td>France</td>\n",
       "      <td>CB</td>\n",
       "      <td>28</td>\n",
       "      <td>Right</td>\n",
       "      <td>Manchester United</td>\n",
       "      <td>18+3</td>\n",
       "    </tr>\n",
       "    <tr>\n",
       "      <th>63</th>\n",
       "      <td>A. Laporte</td>\n",
       "      <td>86</td>\n",
       "      <td>Spain</td>\n",
       "      <td>CB</td>\n",
       "      <td>27</td>\n",
       "      <td>Left</td>\n",
       "      <td>Manchester City</td>\n",
       "      <td>18+3</td>\n",
       "    </tr>\n",
       "    <tr>\n",
       "      <th>68</th>\n",
       "      <td>M. Škriniar</td>\n",
       "      <td>86</td>\n",
       "      <td>Slovakia</td>\n",
       "      <td>CB</td>\n",
       "      <td>26</td>\n",
       "      <td>Right</td>\n",
       "      <td>Inter</td>\n",
       "      <td>19+3</td>\n",
       "    </tr>\n",
       "    <tr>\n",
       "      <th>71</th>\n",
       "      <td>Thiago Silva</td>\n",
       "      <td>85</td>\n",
       "      <td>Brazil</td>\n",
       "      <td>CB</td>\n",
       "      <td>36</td>\n",
       "      <td>Right</td>\n",
       "      <td>Chelsea</td>\n",
       "      <td>18+3</td>\n",
       "    </tr>\n",
       "  </tbody>\n",
       "</table>\n",
       "</div>"
      ],
      "text/plain": [
       "      short_name  overall nationality_name player_positions  age  \\\n",
       "15   V. van Dijk       89      Netherlands               CB   29   \n",
       "22  Sergio Ramos       88            Spain               CB   35   \n",
       "46    Rúben Dias       87         Portugal               CB   24   \n",
       "47  G. Chiellini       86            Italy               CB   36   \n",
       "49    M. Hummels       86          Germany               CB   32   \n",
       "56  K. Koulibaly       86          Senegal               CB   30   \n",
       "57     R. Varane       86           France               CB   28   \n",
       "63    A. Laporte       86            Spain               CB   27   \n",
       "68   M. Škriniar       86         Slovakia               CB   26   \n",
       "71  Thiago Silva       85           Brazil               CB   36   \n",
       "\n",
       "   preferred_foot            club_name    gk  \n",
       "15          Right            Liverpool  20+3  \n",
       "22          Right  Paris Saint-Germain  18+3  \n",
       "46          Right      Manchester City  17+3  \n",
       "47           Left             Juventus  12+3  \n",
       "49          Right    Borussia Dortmund  17+3  \n",
       "56          Right               Napoli  17+3  \n",
       "57          Right    Manchester United  18+3  \n",
       "63           Left      Manchester City  18+3  \n",
       "68          Right                Inter  19+3  \n",
       "71          Right              Chelsea  18+3  "
      ]
     },
     "execution_count": 66,
     "metadata": {},
     "output_type": "execute_result"
    }
   ],
   "source": [
    "# Lets see if we can filter thisd donw a little bit, since strikers get all the glory\n",
    "center_backs_only = players['player_positions'] == 'CB'\n",
    "players[center_backs_only][columns_to_select].head(10)"
   ]
  },
  {
   "cell_type": "code",
   "execution_count": 69,
   "metadata": {},
   "outputs": [],
   "source": [
    "center_backs_only = (players['player_positions'] == 'CB')\n",
    "right_backs_only = players['player_positions'] == 'RB'\n",
    "left_backs_only = players['player_positions'] == 'LB'"
   ]
  },
  {
   "cell_type": "code",
   "execution_count": 72,
   "metadata": {},
   "outputs": [
    {
     "data": {
      "text/plain": [
       "0        False\n",
       "1        False\n",
       "2        False\n",
       "3        False\n",
       "4        False\n",
       "         ...  \n",
       "19234    False\n",
       "19235    False\n",
       "19236    False\n",
       "19237    False\n",
       "19238    False\n",
       "Name: player_positions, Length: 19239, dtype: bool"
      ]
     },
     "execution_count": 72,
     "metadata": {},
     "output_type": "execute_result"
    }
   ],
   "source": [
    "left_backs_only"
   ]
  },
  {
   "cell_type": "code",
   "execution_count": 71,
   "metadata": {},
   "outputs": [
    {
     "data": {
      "text/html": [
       "<div>\n",
       "<style scoped>\n",
       "    .dataframe tbody tr th:only-of-type {\n",
       "        vertical-align: middle;\n",
       "    }\n",
       "\n",
       "    .dataframe tbody tr th {\n",
       "        vertical-align: top;\n",
       "    }\n",
       "\n",
       "    .dataframe thead th {\n",
       "        text-align: right;\n",
       "    }\n",
       "</style>\n",
       "<table border=\"1\" class=\"dataframe\">\n",
       "  <thead>\n",
       "    <tr style=\"text-align: right;\">\n",
       "      <th></th>\n",
       "      <th>short_name</th>\n",
       "      <th>overall</th>\n",
       "      <th>nationality_name</th>\n",
       "      <th>player_positions</th>\n",
       "      <th>age</th>\n",
       "      <th>preferred_foot</th>\n",
       "      <th>club_name</th>\n",
       "      <th>gk</th>\n",
       "    </tr>\n",
       "  </thead>\n",
       "  <tbody>\n",
       "    <tr>\n",
       "      <th>15</th>\n",
       "      <td>V. van Dijk</td>\n",
       "      <td>89</td>\n",
       "      <td>Netherlands</td>\n",
       "      <td>CB</td>\n",
       "      <td>29</td>\n",
       "      <td>Right</td>\n",
       "      <td>Liverpool</td>\n",
       "      <td>20+3</td>\n",
       "    </tr>\n",
       "    <tr>\n",
       "      <th>22</th>\n",
       "      <td>Sergio Ramos</td>\n",
       "      <td>88</td>\n",
       "      <td>Spain</td>\n",
       "      <td>CB</td>\n",
       "      <td>35</td>\n",
       "      <td>Right</td>\n",
       "      <td>Paris Saint-Germain</td>\n",
       "      <td>18+3</td>\n",
       "    </tr>\n",
       "    <tr>\n",
       "      <th>42</th>\n",
       "      <td>A. Robertson</td>\n",
       "      <td>87</td>\n",
       "      <td>Scotland</td>\n",
       "      <td>LB</td>\n",
       "      <td>27</td>\n",
       "      <td>Left</td>\n",
       "      <td>Liverpool</td>\n",
       "      <td>18+3</td>\n",
       "    </tr>\n",
       "    <tr>\n",
       "      <th>44</th>\n",
       "      <td>T. Alexander-Arnold</td>\n",
       "      <td>87</td>\n",
       "      <td>England</td>\n",
       "      <td>RB</td>\n",
       "      <td>22</td>\n",
       "      <td>Right</td>\n",
       "      <td>Liverpool</td>\n",
       "      <td>19+3</td>\n",
       "    </tr>\n",
       "    <tr>\n",
       "      <th>46</th>\n",
       "      <td>Rúben Dias</td>\n",
       "      <td>87</td>\n",
       "      <td>Portugal</td>\n",
       "      <td>CB</td>\n",
       "      <td>24</td>\n",
       "      <td>Right</td>\n",
       "      <td>Manchester City</td>\n",
       "      <td>17+3</td>\n",
       "    </tr>\n",
       "    <tr>\n",
       "      <th>47</th>\n",
       "      <td>G. Chiellini</td>\n",
       "      <td>86</td>\n",
       "      <td>Italy</td>\n",
       "      <td>CB</td>\n",
       "      <td>36</td>\n",
       "      <td>Left</td>\n",
       "      <td>Juventus</td>\n",
       "      <td>12+3</td>\n",
       "    </tr>\n",
       "    <tr>\n",
       "      <th>49</th>\n",
       "      <td>M. Hummels</td>\n",
       "      <td>86</td>\n",
       "      <td>Germany</td>\n",
       "      <td>CB</td>\n",
       "      <td>32</td>\n",
       "      <td>Right</td>\n",
       "      <td>Borussia Dortmund</td>\n",
       "      <td>17+3</td>\n",
       "    </tr>\n",
       "    <tr>\n",
       "      <th>56</th>\n",
       "      <td>K. Koulibaly</td>\n",
       "      <td>86</td>\n",
       "      <td>Senegal</td>\n",
       "      <td>CB</td>\n",
       "      <td>30</td>\n",
       "      <td>Right</td>\n",
       "      <td>Napoli</td>\n",
       "      <td>17+3</td>\n",
       "    </tr>\n",
       "    <tr>\n",
       "      <th>57</th>\n",
       "      <td>R. Varane</td>\n",
       "      <td>86</td>\n",
       "      <td>France</td>\n",
       "      <td>CB</td>\n",
       "      <td>28</td>\n",
       "      <td>Right</td>\n",
       "      <td>Manchester United</td>\n",
       "      <td>18+3</td>\n",
       "    </tr>\n",
       "    <tr>\n",
       "      <th>63</th>\n",
       "      <td>A. Laporte</td>\n",
       "      <td>86</td>\n",
       "      <td>Spain</td>\n",
       "      <td>CB</td>\n",
       "      <td>27</td>\n",
       "      <td>Left</td>\n",
       "      <td>Manchester City</td>\n",
       "      <td>18+3</td>\n",
       "    </tr>\n",
       "  </tbody>\n",
       "</table>\n",
       "</div>"
      ],
      "text/plain": [
       "             short_name  overall nationality_name player_positions  age  \\\n",
       "15          V. van Dijk       89      Netherlands               CB   29   \n",
       "22         Sergio Ramos       88            Spain               CB   35   \n",
       "42         A. Robertson       87         Scotland               LB   27   \n",
       "44  T. Alexander-Arnold       87          England               RB   22   \n",
       "46           Rúben Dias       87         Portugal               CB   24   \n",
       "47         G. Chiellini       86            Italy               CB   36   \n",
       "49           M. Hummels       86          Germany               CB   32   \n",
       "56         K. Koulibaly       86          Senegal               CB   30   \n",
       "57            R. Varane       86           France               CB   28   \n",
       "63           A. Laporte       86            Spain               CB   27   \n",
       "\n",
       "   preferred_foot            club_name    gk  \n",
       "15          Right            Liverpool  20+3  \n",
       "22          Right  Paris Saint-Germain  18+3  \n",
       "42           Left            Liverpool  18+3  \n",
       "44          Right            Liverpool  19+3  \n",
       "46          Right      Manchester City  17+3  \n",
       "47           Left             Juventus  12+3  \n",
       "49          Right    Borussia Dortmund  17+3  \n",
       "56          Right               Napoli  17+3  \n",
       "57          Right    Manchester United  18+3  \n",
       "63           Left      Manchester City  18+3  "
      ]
     },
     "execution_count": 71,
     "metadata": {},
     "output_type": "execute_result"
    }
   ],
   "source": [
    "players[(players['player_positions'] == 'CB') | right_backs_only | left_backs_only ][columns_to_select].head(10)"
   ]
  },
  {
   "cell_type": "markdown",
   "metadata": {},
   "source": [
    "This is shows some of the power of boolean indexing in pandas, we create a boolean index and can combine those indices using additional boolean logic to build complicated expressions.  There is a problem though with some of this position data.  Some players play multiple positions see Messi or Neymar Jr.  If we wanted to focus on all the players for a specific position we'd need to include these.  How do we create an expression for that?"
   ]
  },
  {
   "cell_type": "code",
   "execution_count": 73,
   "metadata": {},
   "outputs": [
    {
     "data": {
      "text/html": [
       "<div>\n",
       "<style scoped>\n",
       "    .dataframe tbody tr th:only-of-type {\n",
       "        vertical-align: middle;\n",
       "    }\n",
       "\n",
       "    .dataframe tbody tr th {\n",
       "        vertical-align: top;\n",
       "    }\n",
       "\n",
       "    .dataframe thead th {\n",
       "        text-align: right;\n",
       "    }\n",
       "</style>\n",
       "<table border=\"1\" class=\"dataframe\">\n",
       "  <thead>\n",
       "    <tr style=\"text-align: right;\">\n",
       "      <th></th>\n",
       "      <th>short_name</th>\n",
       "      <th>overall</th>\n",
       "      <th>nationality_name</th>\n",
       "      <th>player_positions</th>\n",
       "      <th>age</th>\n",
       "      <th>preferred_foot</th>\n",
       "      <th>club_name</th>\n",
       "      <th>gk</th>\n",
       "    </tr>\n",
       "  </thead>\n",
       "  <tbody>\n",
       "    <tr>\n",
       "      <th>10</th>\n",
       "      <td>N. Kanté</td>\n",
       "      <td>90</td>\n",
       "      <td>France</td>\n",
       "      <td>CDM, CM</td>\n",
       "      <td>30</td>\n",
       "      <td>Right</td>\n",
       "      <td>Chelsea</td>\n",
       "      <td>20+3</td>\n",
       "    </tr>\n",
       "    <tr>\n",
       "      <th>14</th>\n",
       "      <td>Casemiro</td>\n",
       "      <td>89</td>\n",
       "      <td>Brazil</td>\n",
       "      <td>CDM</td>\n",
       "      <td>29</td>\n",
       "      <td>Right</td>\n",
       "      <td>Real Madrid CF</td>\n",
       "      <td>21+3</td>\n",
       "    </tr>\n",
       "    <tr>\n",
       "      <th>19</th>\n",
       "      <td>J. Kimmich</td>\n",
       "      <td>89</td>\n",
       "      <td>Germany</td>\n",
       "      <td>CDM, RB</td>\n",
       "      <td>26</td>\n",
       "      <td>Right</td>\n",
       "      <td>FC Bayern München</td>\n",
       "      <td>21+3</td>\n",
       "    </tr>\n",
       "    <tr>\n",
       "      <th>39</th>\n",
       "      <td>Marquinhos</td>\n",
       "      <td>87</td>\n",
       "      <td>Brazil</td>\n",
       "      <td>CB, CDM</td>\n",
       "      <td>27</td>\n",
       "      <td>Right</td>\n",
       "      <td>Paris Saint-Germain</td>\n",
       "      <td>18+3</td>\n",
       "    </tr>\n",
       "    <tr>\n",
       "      <th>40</th>\n",
       "      <td>L. Goretzka</td>\n",
       "      <td>87</td>\n",
       "      <td>Germany</td>\n",
       "      <td>CM, CDM</td>\n",
       "      <td>26</td>\n",
       "      <td>Right</td>\n",
       "      <td>FC Bayern München</td>\n",
       "      <td>19+3</td>\n",
       "    </tr>\n",
       "    <tr>\n",
       "      <th>43</th>\n",
       "      <td>F. de Jong</td>\n",
       "      <td>87</td>\n",
       "      <td>Netherlands</td>\n",
       "      <td>CM, CDM, CB</td>\n",
       "      <td>24</td>\n",
       "      <td>Right</td>\n",
       "      <td>FC Barcelona</td>\n",
       "      <td>18+3</td>\n",
       "    </tr>\n",
       "    <tr>\n",
       "      <th>51</th>\n",
       "      <td>Thiago</td>\n",
       "      <td>86</td>\n",
       "      <td>Spain</td>\n",
       "      <td>CM, CDM</td>\n",
       "      <td>30</td>\n",
       "      <td>Right</td>\n",
       "      <td>Liverpool</td>\n",
       "      <td>18+3</td>\n",
       "    </tr>\n",
       "    <tr>\n",
       "      <th>52</th>\n",
       "      <td>Sergio Busquets</td>\n",
       "      <td>86</td>\n",
       "      <td>Spain</td>\n",
       "      <td>CDM, CM</td>\n",
       "      <td>32</td>\n",
       "      <td>Right</td>\n",
       "      <td>FC Barcelona</td>\n",
       "      <td>17+3</td>\n",
       "    </tr>\n",
       "    <tr>\n",
       "      <th>61</th>\n",
       "      <td>Fabinho</td>\n",
       "      <td>86</td>\n",
       "      <td>Brazil</td>\n",
       "      <td>CDM, CB</td>\n",
       "      <td>27</td>\n",
       "      <td>Right</td>\n",
       "      <td>Liverpool</td>\n",
       "      <td>18+3</td>\n",
       "    </tr>\n",
       "    <tr>\n",
       "      <th>67</th>\n",
       "      <td>Rodri</td>\n",
       "      <td>86</td>\n",
       "      <td>Spain</td>\n",
       "      <td>CDM</td>\n",
       "      <td>25</td>\n",
       "      <td>Right</td>\n",
       "      <td>Manchester City</td>\n",
       "      <td>18+3</td>\n",
       "    </tr>\n",
       "  </tbody>\n",
       "</table>\n",
       "</div>"
      ],
      "text/plain": [
       "         short_name  overall nationality_name player_positions  age  \\\n",
       "10         N. Kanté       90           France          CDM, CM   30   \n",
       "14         Casemiro       89           Brazil              CDM   29   \n",
       "19       J. Kimmich       89          Germany          CDM, RB   26   \n",
       "39       Marquinhos       87           Brazil          CB, CDM   27   \n",
       "40      L. Goretzka       87          Germany          CM, CDM   26   \n",
       "43       F. de Jong       87      Netherlands      CM, CDM, CB   24   \n",
       "51           Thiago       86            Spain          CM, CDM   30   \n",
       "52  Sergio Busquets       86            Spain          CDM, CM   32   \n",
       "61          Fabinho       86           Brazil          CDM, CB   27   \n",
       "67            Rodri       86            Spain              CDM   25   \n",
       "\n",
       "   preferred_foot            club_name    gk  \n",
       "10          Right              Chelsea  20+3  \n",
       "14          Right       Real Madrid CF  21+3  \n",
       "19          Right    FC Bayern München  21+3  \n",
       "39          Right  Paris Saint-Germain  18+3  \n",
       "40          Right    FC Bayern München  19+3  \n",
       "43          Right         FC Barcelona  18+3  \n",
       "51          Right            Liverpool  18+3  \n",
       "52          Right         FC Barcelona  17+3  \n",
       "61          Right            Liverpool  18+3  \n",
       "67          Right      Manchester City  18+3  "
      ]
     },
     "execution_count": 73,
     "metadata": {},
     "output_type": "execute_result"
    }
   ],
   "source": [
    "cdm_players_mask = players['player_positions'].str.contains('CDM')\n",
    "cdm_players = players[cdm_players_mask]\n",
    "cdm_players[columns_to_select].head(10)"
   ]
  },
  {
   "cell_type": "code",
   "execution_count": 74,
   "metadata": {},
   "outputs": [
    {
     "data": {
      "text/html": [
       "<div>\n",
       "<style scoped>\n",
       "    .dataframe tbody tr th:only-of-type {\n",
       "        vertical-align: middle;\n",
       "    }\n",
       "\n",
       "    .dataframe tbody tr th {\n",
       "        vertical-align: top;\n",
       "    }\n",
       "\n",
       "    .dataframe thead th {\n",
       "        text-align: right;\n",
       "    }\n",
       "</style>\n",
       "<table border=\"1\" class=\"dataframe\">\n",
       "  <thead>\n",
       "    <tr style=\"text-align: right;\">\n",
       "      <th></th>\n",
       "      <th>short_name</th>\n",
       "      <th>overall</th>\n",
       "      <th>nationality_name</th>\n",
       "      <th>player_positions</th>\n",
       "      <th>age</th>\n",
       "      <th>preferred_foot</th>\n",
       "      <th>club_name</th>\n",
       "      <th>gk</th>\n",
       "    </tr>\n",
       "  </thead>\n",
       "  <tbody>\n",
       "    <tr>\n",
       "      <th>43</th>\n",
       "      <td>F. de Jong</td>\n",
       "      <td>87</td>\n",
       "      <td>Netherlands</td>\n",
       "      <td>CM, CDM, CB</td>\n",
       "      <td>24</td>\n",
       "      <td>Right</td>\n",
       "      <td>FC Barcelona</td>\n",
       "      <td>18+3</td>\n",
       "    </tr>\n",
       "    <tr>\n",
       "      <th>67</th>\n",
       "      <td>Rodri</td>\n",
       "      <td>86</td>\n",
       "      <td>Spain</td>\n",
       "      <td>CDM</td>\n",
       "      <td>25</td>\n",
       "      <td>Right</td>\n",
       "      <td>Manchester City</td>\n",
       "      <td>18+3</td>\n",
       "    </tr>\n",
       "    <tr>\n",
       "      <th>91</th>\n",
       "      <td>W. Ndidi</td>\n",
       "      <td>85</td>\n",
       "      <td>Nigeria</td>\n",
       "      <td>CDM, CM</td>\n",
       "      <td>24</td>\n",
       "      <td>Right</td>\n",
       "      <td>Leicester City</td>\n",
       "      <td>20+2</td>\n",
       "    </tr>\n",
       "    <tr>\n",
       "      <th>129</th>\n",
       "      <td>Y. Tielemans</td>\n",
       "      <td>84</td>\n",
       "      <td>Belgium</td>\n",
       "      <td>CM, CDM</td>\n",
       "      <td>24</td>\n",
       "      <td>Right</td>\n",
       "      <td>Leicester City</td>\n",
       "      <td>18+2</td>\n",
       "    </tr>\n",
       "    <tr>\n",
       "      <th>136</th>\n",
       "      <td>F. Kessié</td>\n",
       "      <td>84</td>\n",
       "      <td>Côte d'Ivoire</td>\n",
       "      <td>CDM, CM</td>\n",
       "      <td>24</td>\n",
       "      <td>Right</td>\n",
       "      <td>AC Milan</td>\n",
       "      <td>18+3</td>\n",
       "    </tr>\n",
       "  </tbody>\n",
       "</table>\n",
       "</div>"
      ],
      "text/plain": [
       "       short_name  overall nationality_name player_positions  age  \\\n",
       "43     F. de Jong       87      Netherlands      CM, CDM, CB   24   \n",
       "67          Rodri       86            Spain              CDM   25   \n",
       "91       W. Ndidi       85          Nigeria          CDM, CM   24   \n",
       "129  Y. Tielemans       84          Belgium          CM, CDM   24   \n",
       "136     F. Kessié       84    Côte d'Ivoire          CDM, CM   24   \n",
       "\n",
       "    preferred_foot        club_name    gk  \n",
       "43           Right     FC Barcelona  18+3  \n",
       "67           Right  Manchester City  18+3  \n",
       "91           Right   Leicester City  20+2  \n",
       "129          Right   Leicester City  18+2  \n",
       "136          Right         AC Milan  18+3  "
      ]
     },
     "execution_count": 74,
     "metadata": {},
     "output_type": "execute_result"
    }
   ],
   "source": [
    "# What if we only want the younger players say <= 25\n",
    "max_age = 25\n",
    "young_cdm_players = players[cdm_players_mask & (players['age'] <= max_age)]\n",
    "young_cdm_players[columns_to_select].head()"
   ]
  },
  {
   "cell_type": "code",
   "execution_count": 75,
   "metadata": {},
   "outputs": [],
   "source": [
    "assert(players['gk'].str.contains('\\\\+').all())    # have to use `\\\\+` for regular expression\n",
    "gk_rating_data = players['gk'].str.split('+')\n",
    "np_data = np.array([[int(x), int(y)] for x, y in gk_rating_data.values])\n",
    "players['gk'] = np_data[:, 0] + np_data[:, 1]"
   ]
  },
  {
   "cell_type": "code",
   "execution_count": null,
   "metadata": {},
   "outputs": [],
   "source": []
  },
  {
   "cell_type": "code",
   "execution_count": 76,
   "metadata": {},
   "outputs": [
    {
     "data": {
      "text/html": [
       "<div>\n",
       "<style scoped>\n",
       "    .dataframe tbody tr th:only-of-type {\n",
       "        vertical-align: middle;\n",
       "    }\n",
       "\n",
       "    .dataframe tbody tr th {\n",
       "        vertical-align: top;\n",
       "    }\n",
       "\n",
       "    .dataframe thead th {\n",
       "        text-align: right;\n",
       "    }\n",
       "</style>\n",
       "<table border=\"1\" class=\"dataframe\">\n",
       "  <thead>\n",
       "    <tr style=\"text-align: right;\">\n",
       "      <th></th>\n",
       "      <th>short_name</th>\n",
       "      <th>overall</th>\n",
       "      <th>nationality_name</th>\n",
       "      <th>player_positions</th>\n",
       "      <th>age</th>\n",
       "      <th>preferred_foot</th>\n",
       "      <th>club_name</th>\n",
       "      <th>gk</th>\n",
       "    </tr>\n",
       "  </thead>\n",
       "  <tbody>\n",
       "    <tr>\n",
       "      <th>23</th>\n",
       "      <td>L. Suárez</td>\n",
       "      <td>88</td>\n",
       "      <td>Uruguay</td>\n",
       "      <td>ST</td>\n",
       "      <td>34</td>\n",
       "      <td>Right</td>\n",
       "      <td>Atlético de Madrid</td>\n",
       "      <td>40</td>\n",
       "    </tr>\n",
       "    <tr>\n",
       "      <th>4593</th>\n",
       "      <td>P. Jagielka</td>\n",
       "      <td>70</td>\n",
       "      <td>England</td>\n",
       "      <td>CB</td>\n",
       "      <td>38</td>\n",
       "      <td>Right</td>\n",
       "      <td>Derby County</td>\n",
       "      <td>39</td>\n",
       "    </tr>\n",
       "    <tr>\n",
       "      <th>6656</th>\n",
       "      <td>L. Veldwijk</td>\n",
       "      <td>68</td>\n",
       "      <td>South Africa</td>\n",
       "      <td>ST</td>\n",
       "      <td>29</td>\n",
       "      <td>Right</td>\n",
       "      <td>Suwon FC</td>\n",
       "      <td>34</td>\n",
       "    </tr>\n",
       "    <tr>\n",
       "      <th>4603</th>\n",
       "      <td>A. Tettey</td>\n",
       "      <td>70</td>\n",
       "      <td>Norway</td>\n",
       "      <td>CDM</td>\n",
       "      <td>35</td>\n",
       "      <td>Right</td>\n",
       "      <td>Rosenborg BK</td>\n",
       "      <td>30</td>\n",
       "    </tr>\n",
       "    <tr>\n",
       "      <th>3451</th>\n",
       "      <td>R. Hollingshead</td>\n",
       "      <td>72</td>\n",
       "      <td>United States</td>\n",
       "      <td>LB, RB, CB</td>\n",
       "      <td>30</td>\n",
       "      <td>Right</td>\n",
       "      <td>FC Dallas</td>\n",
       "      <td>28</td>\n",
       "    </tr>\n",
       "  </tbody>\n",
       "</table>\n",
       "</div>"
      ],
      "text/plain": [
       "           short_name  overall nationality_name player_positions  age  \\\n",
       "23          L. Suárez       88          Uruguay               ST   34   \n",
       "4593      P. Jagielka       70          England               CB   38   \n",
       "6656      L. Veldwijk       68     South Africa               ST   29   \n",
       "4603        A. Tettey       70           Norway              CDM   35   \n",
       "3451  R. Hollingshead       72    United States       LB, RB, CB   30   \n",
       "\n",
       "     preferred_foot           club_name  gk  \n",
       "23            Right  Atlético de Madrid  40  \n",
       "4593          Right        Derby County  39  \n",
       "6656          Right            Suwon FC  34  \n",
       "4603          Right        Rosenborg BK  30  \n",
       "3451          Right           FC Dallas  28  "
      ]
     },
     "execution_count": 76,
     "metadata": {},
     "output_type": "execute_result"
    }
   ],
   "source": [
    "# How about the best outfield player to with the highest GK rating\n",
    "outfield_player_mask = players['player_positions'] != 'GK'\n",
    "outfield_players = players[outfield_player_mask]\n",
    "outfield_players[columns_to_select].sort_values(by=['gk'], ascending=False).head()                                                 "
   ]
  },
  {
   "cell_type": "markdown",
   "metadata": {},
   "source": [
    "## Grouping"
   ]
  },
  {
   "cell_type": "code",
   "execution_count": 77,
   "metadata": {},
   "outputs": [],
   "source": [
    "grp_by_nation = players.groupby(['nationality_name'])         # NOTE: the [ ] are very important here, must be a list "
   ]
  },
  {
   "cell_type": "code",
   "execution_count": 78,
   "metadata": {},
   "outputs": [
    {
     "data": {
      "text/plain": [
       "nationality_name    True\n",
       "dtype: bool"
      ]
     },
     "execution_count": 78,
     "metadata": {},
     "output_type": "execute_result"
    }
   ],
   "source": [
    "len(grp_by_nation) == players[['nationality_name']].nunique()"
   ]
  },
  {
   "cell_type": "code",
   "execution_count": 81,
   "metadata": {},
   "outputs": [],
   "source": [
    "#grp_by_nation.groups  # (oodles and gobs of nearly unreadable data)"
   ]
  },
  {
   "cell_type": "code",
   "execution_count": 82,
   "metadata": {},
   "outputs": [
    {
     "data": {
      "text/plain": [
       "nationality_name\n",
       "England          1719\n",
       "Germany          1214\n",
       "Spain            1086\n",
       "France            980\n",
       "Argentina         960\n",
       "Brazil            897\n",
       "Japan             546\n",
       "Netherlands       439\n",
       "United States     413\n",
       "Poland            403\n",
       "dtype: int64"
      ]
     },
     "execution_count": 82,
     "metadata": {},
     "output_type": "execute_result"
    }
   ],
   "source": [
    "grp_by_nation.size().sort_values(ascending=False).head(10)"
   ]
  },
  {
   "cell_type": "code",
   "execution_count": 83,
   "metadata": {},
   "outputs": [
    {
     "data": {
      "text/html": [
       "<div>\n",
       "<style scoped>\n",
       "    .dataframe tbody tr th:only-of-type {\n",
       "        vertical-align: middle;\n",
       "    }\n",
       "\n",
       "    .dataframe tbody tr th {\n",
       "        vertical-align: top;\n",
       "    }\n",
       "\n",
       "    .dataframe thead th {\n",
       "        text-align: right;\n",
       "    }\n",
       "</style>\n",
       "<table border=\"1\" class=\"dataframe\">\n",
       "  <thead>\n",
       "    <tr style=\"text-align: right;\">\n",
       "      <th></th>\n",
       "      <th>short_name</th>\n",
       "      <th>overall</th>\n",
       "      <th>player_positions</th>\n",
       "      <th>age</th>\n",
       "      <th>preferred_foot</th>\n",
       "      <th>club_name</th>\n",
       "    </tr>\n",
       "    <tr>\n",
       "      <th>nationality_name</th>\n",
       "      <th></th>\n",
       "      <th></th>\n",
       "      <th></th>\n",
       "      <th></th>\n",
       "      <th></th>\n",
       "      <th></th>\n",
       "    </tr>\n",
       "  </thead>\n",
       "  <tbody>\n",
       "    <tr>\n",
       "      <th>Afghanistan</th>\n",
       "      <td>O. Haydary</td>\n",
       "      <td>64</td>\n",
       "      <td>RM</td>\n",
       "      <td>23</td>\n",
       "      <td>Right</td>\n",
       "      <td>Lechia Gdańsk</td>\n",
       "    </tr>\n",
       "    <tr>\n",
       "      <th>Albania</th>\n",
       "      <td>T. Strakosha</td>\n",
       "      <td>80</td>\n",
       "      <td>GK</td>\n",
       "      <td>26</td>\n",
       "      <td>Right</td>\n",
       "      <td>Lazio</td>\n",
       "    </tr>\n",
       "    <tr>\n",
       "      <th>Algeria</th>\n",
       "      <td>R. Mahrez</td>\n",
       "      <td>86</td>\n",
       "      <td>RW, RM</td>\n",
       "      <td>30</td>\n",
       "      <td>Left</td>\n",
       "      <td>Manchester City</td>\n",
       "    </tr>\n",
       "    <tr>\n",
       "      <th>Andorra</th>\n",
       "      <td>Marc Vales</td>\n",
       "      <td>64</td>\n",
       "      <td>CB</td>\n",
       "      <td>31</td>\n",
       "      <td>Right</td>\n",
       "      <td>Sandefjord Fotball</td>\n",
       "    </tr>\n",
       "    <tr>\n",
       "      <th>Angola</th>\n",
       "      <td>Clinton Mata</td>\n",
       "      <td>78</td>\n",
       "      <td>RB, CB</td>\n",
       "      <td>28</td>\n",
       "      <td>Right</td>\n",
       "      <td>Club Brugge KV</td>\n",
       "    </tr>\n",
       "    <tr>\n",
       "      <th>Antigua and Barbuda</th>\n",
       "      <td>M. Romeo</td>\n",
       "      <td>70</td>\n",
       "      <td>RWB, RB</td>\n",
       "      <td>25</td>\n",
       "      <td>Right</td>\n",
       "      <td>Portsmouth</td>\n",
       "    </tr>\n",
       "    <tr>\n",
       "      <th>Argentina</th>\n",
       "      <td>L. Messi</td>\n",
       "      <td>93</td>\n",
       "      <td>RW, ST, CF</td>\n",
       "      <td>34</td>\n",
       "      <td>Left</td>\n",
       "      <td>Paris Saint-Germain</td>\n",
       "    </tr>\n",
       "    <tr>\n",
       "      <th>Armenia</th>\n",
       "      <td>H. Mkhitaryan</td>\n",
       "      <td>83</td>\n",
       "      <td>CF, RM, RW</td>\n",
       "      <td>32</td>\n",
       "      <td>Right</td>\n",
       "      <td>Roma</td>\n",
       "    </tr>\n",
       "    <tr>\n",
       "      <th>Australia</th>\n",
       "      <td>A. Mooy</td>\n",
       "      <td>77</td>\n",
       "      <td>CM, CAM</td>\n",
       "      <td>30</td>\n",
       "      <td>Right</td>\n",
       "      <td>Shanghai Port FC</td>\n",
       "    </tr>\n",
       "    <tr>\n",
       "      <th>Austria</th>\n",
       "      <td>D. Alaba</td>\n",
       "      <td>84</td>\n",
       "      <td>CB, LB</td>\n",
       "      <td>29</td>\n",
       "      <td>Left</td>\n",
       "      <td>Real Madrid CF</td>\n",
       "    </tr>\n",
       "  </tbody>\n",
       "</table>\n",
       "</div>"
      ],
      "text/plain": [
       "                        short_name  overall player_positions  age  \\\n",
       "nationality_name                                                    \n",
       "Afghanistan             O. Haydary       64               RM   23   \n",
       "Albania               T. Strakosha       80               GK   26   \n",
       "Algeria                  R. Mahrez       86           RW, RM   30   \n",
       "Andorra                 Marc Vales       64               CB   31   \n",
       "Angola                Clinton Mata       78           RB, CB   28   \n",
       "Antigua and Barbuda       M. Romeo       70          RWB, RB   25   \n",
       "Argentina                 L. Messi       93       RW, ST, CF   34   \n",
       "Armenia              H. Mkhitaryan       83       CF, RM, RW   32   \n",
       "Australia                  A. Mooy       77          CM, CAM   30   \n",
       "Austria                   D. Alaba       84           CB, LB   29   \n",
       "\n",
       "                    preferred_foot            club_name  \n",
       "nationality_name                                         \n",
       "Afghanistan                  Right        Lechia Gdańsk  \n",
       "Albania                      Right                Lazio  \n",
       "Algeria                       Left      Manchester City  \n",
       "Andorra                      Right   Sandefjord Fotball  \n",
       "Angola                       Right       Club Brugge KV  \n",
       "Antigua and Barbuda          Right           Portsmouth  \n",
       "Argentina                     Left  Paris Saint-Germain  \n",
       "Armenia                      Right                 Roma  \n",
       "Australia                    Right     Shanghai Port FC  \n",
       "Austria                       Left       Real Madrid CF  "
      ]
     },
     "execution_count": 83,
     "metadata": {},
     "output_type": "execute_result"
    }
   ],
   "source": [
    "top_player = grp_by_nation.first()\n",
    "top_player[['short_name', 'overall', 'player_positions', 'age', 'preferred_foot', 'club_name']].head(10)"
   ]
  },
  {
   "cell_type": "code",
   "execution_count": 84,
   "metadata": {},
   "outputs": [
    {
     "data": {
      "text/html": [
       "<div>\n",
       "<style scoped>\n",
       "    .dataframe tbody tr th:only-of-type {\n",
       "        vertical-align: middle;\n",
       "    }\n",
       "\n",
       "    .dataframe tbody tr th {\n",
       "        vertical-align: top;\n",
       "    }\n",
       "\n",
       "    .dataframe thead th {\n",
       "        text-align: right;\n",
       "    }\n",
       "</style>\n",
       "<table border=\"1\" class=\"dataframe\">\n",
       "  <thead>\n",
       "    <tr style=\"text-align: right;\">\n",
       "      <th></th>\n",
       "      <th>short_name</th>\n",
       "      <th>overall</th>\n",
       "      <th>nationality_name</th>\n",
       "      <th>player_positions</th>\n",
       "      <th>age</th>\n",
       "      <th>preferred_foot</th>\n",
       "      <th>club_name</th>\n",
       "      <th>gk</th>\n",
       "    </tr>\n",
       "  </thead>\n",
       "  <tbody>\n",
       "    <tr>\n",
       "      <th>40</th>\n",
       "      <td>L. Goretzka</td>\n",
       "      <td>87</td>\n",
       "      <td>Germany</td>\n",
       "      <td>CM, CDM</td>\n",
       "      <td>26</td>\n",
       "      <td>Right</td>\n",
       "      <td>FC Bayern München</td>\n",
       "      <td>22</td>\n",
       "    </tr>\n",
       "    <tr>\n",
       "      <th>57</th>\n",
       "      <td>R. Varane</td>\n",
       "      <td>86</td>\n",
       "      <td>France</td>\n",
       "      <td>CB</td>\n",
       "      <td>28</td>\n",
       "      <td>Right</td>\n",
       "      <td>Manchester United</td>\n",
       "      <td>21</td>\n",
       "    </tr>\n",
       "    <tr>\n",
       "      <th>59</th>\n",
       "      <td>Gerard Moreno</td>\n",
       "      <td>86</td>\n",
       "      <td>Spain</td>\n",
       "      <td>ST, RM, RW</td>\n",
       "      <td>29</td>\n",
       "      <td>Left</td>\n",
       "      <td>Villarreal CF</td>\n",
       "      <td>22</td>\n",
       "    </tr>\n",
       "    <tr>\n",
       "      <th>61</th>\n",
       "      <td>Fabinho</td>\n",
       "      <td>86</td>\n",
       "      <td>Brazil</td>\n",
       "      <td>CDM, CB</td>\n",
       "      <td>27</td>\n",
       "      <td>Right</td>\n",
       "      <td>Liverpool</td>\n",
       "      <td>21</td>\n",
       "    </tr>\n",
       "    <tr>\n",
       "      <th>76</th>\n",
       "      <td>L. Bonucci</td>\n",
       "      <td>85</td>\n",
       "      <td>Italy</td>\n",
       "      <td>CB</td>\n",
       "      <td>34</td>\n",
       "      <td>Right</td>\n",
       "      <td>Juventus</td>\n",
       "      <td>14</td>\n",
       "    </tr>\n",
       "    <tr>\n",
       "      <th>80</th>\n",
       "      <td>K. Walker</td>\n",
       "      <td>85</td>\n",
       "      <td>England</td>\n",
       "      <td>RB</td>\n",
       "      <td>31</td>\n",
       "      <td>Right</td>\n",
       "      <td>Manchester City</td>\n",
       "      <td>22</td>\n",
       "    </tr>\n",
       "    <tr>\n",
       "      <th>93</th>\n",
       "      <td>L. Martínez</td>\n",
       "      <td>85</td>\n",
       "      <td>Argentina</td>\n",
       "      <td>ST</td>\n",
       "      <td>23</td>\n",
       "      <td>Right</td>\n",
       "      <td>Inter</td>\n",
       "      <td>22</td>\n",
       "    </tr>\n",
       "    <tr>\n",
       "      <th>100</th>\n",
       "      <td>D. Mertens</td>\n",
       "      <td>84</td>\n",
       "      <td>Belgium</td>\n",
       "      <td>CF, ST, CAM</td>\n",
       "      <td>34</td>\n",
       "      <td>Right</td>\n",
       "      <td>Napoli</td>\n",
       "      <td>19</td>\n",
       "    </tr>\n",
       "    <tr>\n",
       "      <th>101</th>\n",
       "      <td>G. Wijnaldum</td>\n",
       "      <td>84</td>\n",
       "      <td>Netherlands</td>\n",
       "      <td>CM, CDM</td>\n",
       "      <td>30</td>\n",
       "      <td>Right</td>\n",
       "      <td>Paris Saint-Germain</td>\n",
       "      <td>22</td>\n",
       "    </tr>\n",
       "    <tr>\n",
       "      <th>124</th>\n",
       "      <td>R. Guerreiro</td>\n",
       "      <td>84</td>\n",
       "      <td>Portugal</td>\n",
       "      <td>LB, LM</td>\n",
       "      <td>27</td>\n",
       "      <td>Left</td>\n",
       "      <td>Borussia Dortmund</td>\n",
       "      <td>21</td>\n",
       "    </tr>\n",
       "  </tbody>\n",
       "</table>\n",
       "</div>"
      ],
      "text/plain": [
       "        short_name  overall nationality_name player_positions  age  \\\n",
       "40     L. Goretzka       87          Germany          CM, CDM   26   \n",
       "57       R. Varane       86           France               CB   28   \n",
       "59   Gerard Moreno       86            Spain       ST, RM, RW   29   \n",
       "61         Fabinho       86           Brazil          CDM, CB   27   \n",
       "76      L. Bonucci       85            Italy               CB   34   \n",
       "80       K. Walker       85          England               RB   31   \n",
       "93     L. Martínez       85        Argentina               ST   23   \n",
       "100     D. Mertens       84          Belgium      CF, ST, CAM   34   \n",
       "101   G. Wijnaldum       84      Netherlands          CM, CDM   30   \n",
       "124   R. Guerreiro       84         Portugal           LB, LM   27   \n",
       "\n",
       "    preferred_foot            club_name  gk  \n",
       "40           Right    FC Bayern München  22  \n",
       "57           Right    Manchester United  21  \n",
       "59            Left        Villarreal CF  22  \n",
       "61           Right            Liverpool  21  \n",
       "76           Right             Juventus  14  \n",
       "80           Right      Manchester City  22  \n",
       "93           Right                Inter  22  \n",
       "100          Right               Napoli  19  \n",
       "101          Right  Paris Saint-Germain  22  \n",
       "124           Left    Borussia Dortmund  21  "
      ]
     },
     "execution_count": 84,
     "metadata": {},
     "output_type": "execute_result"
    }
   ],
   "source": [
    "# What about the 5th best player for their naition\n",
    "nth_player = grp_by_nation.nth(5)\n",
    "nth_player[columns_to_select].head(10)"
   ]
  },
  {
   "cell_type": "code",
   "execution_count": 89,
   "metadata": {},
   "outputs": [
    {
     "data": {
      "text/html": [
       "<div>\n",
       "<style scoped>\n",
       "    .dataframe tbody tr th:only-of-type {\n",
       "        vertical-align: middle;\n",
       "    }\n",
       "\n",
       "    .dataframe tbody tr th {\n",
       "        vertical-align: top;\n",
       "    }\n",
       "\n",
       "    .dataframe thead th {\n",
       "        text-align: right;\n",
       "    }\n",
       "</style>\n",
       "<table border=\"1\" class=\"dataframe\">\n",
       "  <thead>\n",
       "    <tr style=\"text-align: right;\">\n",
       "      <th></th>\n",
       "      <th>short_name</th>\n",
       "      <th>overall</th>\n",
       "      <th>nationality_name</th>\n",
       "      <th>player_positions</th>\n",
       "      <th>age</th>\n",
       "      <th>preferred_foot</th>\n",
       "      <th>club_name</th>\n",
       "      <th>gk</th>\n",
       "    </tr>\n",
       "  </thead>\n",
       "  <tbody>\n",
       "    <tr>\n",
       "      <th>1555</th>\n",
       "      <td>G. Makaridze</td>\n",
       "      <td>75</td>\n",
       "      <td>Georgia</td>\n",
       "      <td>GK</td>\n",
       "      <td>31</td>\n",
       "      <td>Right</td>\n",
       "      <td>Unión Deportiva Almería</td>\n",
       "      <td>75</td>\n",
       "    </tr>\n",
       "    <tr>\n",
       "      <th>1966</th>\n",
       "      <td>G. Mamardashvili</td>\n",
       "      <td>75</td>\n",
       "      <td>Georgia</td>\n",
       "      <td>GK</td>\n",
       "      <td>20</td>\n",
       "      <td>Left</td>\n",
       "      <td>Valencia CF</td>\n",
       "      <td>76</td>\n",
       "    </tr>\n",
       "    <tr>\n",
       "      <th>3306</th>\n",
       "      <td>Vako</td>\n",
       "      <td>72</td>\n",
       "      <td>Georgia</td>\n",
       "      <td>LM, CAM</td>\n",
       "      <td>28</td>\n",
       "      <td>Right</td>\n",
       "      <td>Ulsan Hyundai FC</td>\n",
       "      <td>18</td>\n",
       "    </tr>\n",
       "    <tr>\n",
       "      <th>3674</th>\n",
       "      <td>G. Kvilitaia</td>\n",
       "      <td>72</td>\n",
       "      <td>Georgia</td>\n",
       "      <td>ST</td>\n",
       "      <td>27</td>\n",
       "      <td>Right</td>\n",
       "      <td>APOEL Nicosia FC</td>\n",
       "      <td>18</td>\n",
       "    </tr>\n",
       "    <tr>\n",
       "      <th>3712</th>\n",
       "      <td>S. Lobjanidze</td>\n",
       "      <td>72</td>\n",
       "      <td>Georgia</td>\n",
       "      <td>RW, LW</td>\n",
       "      <td>26</td>\n",
       "      <td>Right</td>\n",
       "      <td>Atakaş Hatayspor</td>\n",
       "      <td>18</td>\n",
       "    </tr>\n",
       "    <tr>\n",
       "      <th>3756</th>\n",
       "      <td>O. Kiteishvili</td>\n",
       "      <td>72</td>\n",
       "      <td>Georgia</td>\n",
       "      <td>CAM, LM, CM</td>\n",
       "      <td>25</td>\n",
       "      <td>Right</td>\n",
       "      <td>SK Sturm Graz</td>\n",
       "      <td>19</td>\n",
       "    </tr>\n",
       "    <tr>\n",
       "      <th>4436</th>\n",
       "      <td>D. Khocholava</td>\n",
       "      <td>71</td>\n",
       "      <td>Georgia</td>\n",
       "      <td>CB</td>\n",
       "      <td>28</td>\n",
       "      <td>Right</td>\n",
       "      <td>F.C. København</td>\n",
       "      <td>16</td>\n",
       "    </tr>\n",
       "    <tr>\n",
       "      <th>4919</th>\n",
       "      <td>T. Okriashvili</td>\n",
       "      <td>70</td>\n",
       "      <td>Georgia</td>\n",
       "      <td>CAM, LM</td>\n",
       "      <td>29</td>\n",
       "      <td>Right</td>\n",
       "      <td>APOEL Nicosia FC</td>\n",
       "      <td>18</td>\n",
       "    </tr>\n",
       "    <tr>\n",
       "      <th>6163</th>\n",
       "      <td>G. Chakvetadze</td>\n",
       "      <td>69</td>\n",
       "      <td>Georgia</td>\n",
       "      <td>CAM, LM, CM</td>\n",
       "      <td>21</td>\n",
       "      <td>Right</td>\n",
       "      <td>KAA Gent</td>\n",
       "      <td>17</td>\n",
       "    </tr>\n",
       "    <tr>\n",
       "      <th>6200</th>\n",
       "      <td>G. Kharaishvili</td>\n",
       "      <td>69</td>\n",
       "      <td>Georgia</td>\n",
       "      <td>CAM</td>\n",
       "      <td>24</td>\n",
       "      <td>Right</td>\n",
       "      <td>Ferencvárosi TC</td>\n",
       "      <td>17</td>\n",
       "    </tr>\n",
       "  </tbody>\n",
       "</table>\n",
       "</div>"
      ],
      "text/plain": [
       "            short_name  overall nationality_name player_positions  age  \\\n",
       "1555      G. Makaridze       75          Georgia               GK   31   \n",
       "1966  G. Mamardashvili       75          Georgia               GK   20   \n",
       "3306              Vako       72          Georgia          LM, CAM   28   \n",
       "3674      G. Kvilitaia       72          Georgia               ST   27   \n",
       "3712     S. Lobjanidze       72          Georgia           RW, LW   26   \n",
       "3756    O. Kiteishvili       72          Georgia      CAM, LM, CM   25   \n",
       "4436     D. Khocholava       71          Georgia               CB   28   \n",
       "4919    T. Okriashvili       70          Georgia          CAM, LM   29   \n",
       "6163    G. Chakvetadze       69          Georgia      CAM, LM, CM   21   \n",
       "6200   G. Kharaishvili       69          Georgia              CAM   24   \n",
       "\n",
       "     preferred_foot                club_name  gk  \n",
       "1555          Right  Unión Deportiva Almería  75  \n",
       "1966           Left              Valencia CF  76  \n",
       "3306          Right         Ulsan Hyundai FC  18  \n",
       "3674          Right         APOEL Nicosia FC  18  \n",
       "3712          Right         Atakaş Hatayspor  18  \n",
       "3756          Right            SK Sturm Graz  19  \n",
       "4436          Right           F.C. København  16  \n",
       "4919          Right         APOEL Nicosia FC  18  \n",
       "6163          Right                 KAA Gent  17  \n",
       "6200          Right          Ferencvárosi TC  17  "
      ]
     },
     "execution_count": 89,
     "metadata": {},
     "output_type": "execute_result"
    }
   ],
   "source": [
    "nation = 'Georgia'\n",
    "nat_players = grp_by_nation.get_group((nation,))\n",
    "nat_players[columns_to_select].head(10)"
   ]
  },
  {
   "cell_type": "markdown",
   "metadata": {},
   "source": [
    "## Multi-Indexing\n"
   ]
  },
  {
   "cell_type": "code",
   "execution_count": 92,
   "metadata": {},
   "outputs": [
    {
     "data": {
      "text/plain": [
       "player_positions  nationality_name\n",
       "CAM               Argentina           8\n",
       "                  Australia           9\n",
       "                  Austria             3\n",
       "                  Belarus             1\n",
       "                  Belgium             4\n",
       "                                     ..\n",
       "ST, RW, LW        Zambia              1\n",
       "ST, RW, RM        Armenia             1\n",
       "                  Ghana               1\n",
       "                  Senegal             1\n",
       "                  Venezuela           1\n",
       "Name: sofifa_id, Length: 5587, dtype: int64"
      ]
     },
     "execution_count": 92,
     "metadata": {},
     "output_type": "execute_result"
    }
   ],
   "source": [
    "multi_grp = players.groupby(['player_positions', 'nationality_name'])       \n",
    "multi_grp.count()['sofifa_id']"
   ]
  },
  {
   "cell_type": "code",
   "execution_count": null,
   "metadata": {},
   "outputs": [],
   "source": [
    "multi_grp.get_group(('CDM', :)) "
   ]
  },
  {
   "cell_type": "markdown",
   "metadata": {},
   "source": [
    "## Merging, Joining and Contatenating (OH MY....)"
   ]
  },
  {
   "cell_type": "code",
   "execution_count": null,
   "metadata": {},
   "outputs": [],
   "source": [
    "24*2*30"
   ]
  },
  {
   "cell_type": "code",
   "execution_count": null,
   "metadata": {},
   "outputs": [],
   "source": []
  },
  {
   "cell_type": "code",
   "execution_count": null,
   "metadata": {},
   "outputs": [],
   "source": []
  },
  {
   "cell_type": "code",
   "execution_count": null,
   "metadata": {},
   "outputs": [],
   "source": []
  },
  {
   "cell_type": "code",
   "execution_count": null,
   "metadata": {},
   "outputs": [],
   "source": []
  },
  {
   "cell_type": "code",
   "execution_count": null,
   "metadata": {},
   "outputs": [],
   "source": []
  },
  {
   "cell_type": "code",
   "execution_count": null,
   "metadata": {},
   "outputs": [],
   "source": []
  },
  {
   "cell_type": "code",
   "execution_count": null,
   "metadata": {},
   "outputs": [],
   "source": []
  },
  {
   "cell_type": "code",
   "execution_count": null,
   "metadata": {},
   "outputs": [],
   "source": []
  },
  {
   "cell_type": "code",
   "execution_count": null,
   "metadata": {},
   "outputs": [],
   "source": []
  }
 ],
 "metadata": {
  "kernelspec": {
   "display_name": "Python 3 (ipykernel)",
   "language": "python",
   "name": "python3"
  },
  "language_info": {
   "codemirror_mode": {
    "name": "ipython",
    "version": 3
   },
   "file_extension": ".py",
   "mimetype": "text/x-python",
   "name": "python",
   "nbconvert_exporter": "python",
   "pygments_lexer": "ipython3",
   "version": "3.12.3"
  }
 },
 "nbformat": 4,
 "nbformat_minor": 4
}
